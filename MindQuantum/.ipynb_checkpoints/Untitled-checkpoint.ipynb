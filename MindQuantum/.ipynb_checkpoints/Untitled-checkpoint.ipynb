{
 "cells": [
  {
   "cell_type": "code",
   "execution_count": null,
   "id": "2ac96a64",
   "metadata": {},
   "outputs": [],
   "source": [
    "from mindquantum import *"
   ]
  },
  {
   "cell_type": "code",
   "execution_count": null,
   "id": "a4d19cb1",
   "metadata": {},
   "outputs": [],
   "source": [
    "H"
   ]
  },
  {
   "cell_type": "code",
   "execution_count": null,
   "id": "ca2563b3",
   "metadata": {},
   "outputs": [],
   "source": [
    "H(0,1)"
   ]
  },
  {
   "cell_type": "code",
   "execution_count": null,
   "id": "d8a11ab3",
   "metadata": {},
   "outputs": [],
   "source": [
    "H.matrix()"
   ]
  },
  {
   "cell_type": "code",
   "execution_count": null,
   "id": "d750dc5d",
   "metadata": {},
   "outputs": [],
   "source": [
    "import numpy as np\n",
    "RX(np.pi).matrix()"
   ]
  },
  {
   "cell_type": "code",
   "execution_count": null,
   "id": "d2b58c2d",
   "metadata": {},
   "outputs": [],
   "source": [
    "RX('theta').matrix({'theta':np.pi})"
   ]
  },
  {
   "cell_type": "code",
   "execution_count": null,
   "id": "290a5cc4",
   "metadata": {},
   "outputs": [],
   "source": [
    "Circuit([H.on(0)])"
   ]
  },
  {
   "cell_type": "code",
   "execution_count": null,
   "id": "606d57a5",
   "metadata": {},
   "outputs": [],
   "source": [
    "circuit=Circuit([H.on(0),X.on(1,0)])"
   ]
  },
  {
   "cell_type": "code",
   "execution_count": null,
   "id": "c69f98e0",
   "metadata": {},
   "outputs": [],
   "source": [
    "circuit=Circuit([H.on(0),X.on(1,0)])"
   ]
  },
  {
   "cell_type": "code",
   "execution_count": null,
   "id": "8ec615cd",
   "metadata": {},
   "outputs": [],
   "source": [
    "circuit"
   ]
  },
  {
   "cell_type": "code",
   "execution_count": null,
   "id": "da704d82",
   "metadata": {},
   "outputs": [],
   "source": [
    "circuit.get_qs(ket=True)"
   ]
  },
  {
   "cell_type": "code",
   "execution_count": null,
   "id": "33a8d2dd",
   "metadata": {},
   "outputs": [],
   "source": [
    "sim=Simulator('projectq',3)\n",
    "sim"
   ]
  },
  {
   "cell_type": "code",
   "execution_count": null,
   "id": "2c313616",
   "metadata": {},
   "outputs": [],
   "source": [
    "sim.apply_circuit(qft(range(3)))\n",
    "sim"
   ]
  },
  {
   "cell_type": "code",
   "execution_count": null,
   "id": "58a1221a",
   "metadata": {},
   "outputs": [],
   "source": [
    "sim.reset()"
   ]
  },
  {
   "cell_type": "code",
   "execution_count": null,
   "id": "5c5f2af7",
   "metadata": {},
   "outputs": [],
   "source": [
    "sim"
   ]
  },
  {
   "cell_type": "code",
   "execution_count": null,
   "id": "c60781a7",
   "metadata": {},
   "outputs": [],
   "source": [
    "sim.apply_circuit(Circuit([H.on(0),H.on(1),H.on(2)])+qft(range(3)))"
   ]
  },
  {
   "cell_type": "code",
   "execution_count": null,
   "id": "06f52f61",
   "metadata": {},
   "outputs": [],
   "source": [
    "sim"
   ]
  }
 ],
 "metadata": {
  "kernelspec": {
   "display_name": "Python 3",
   "language": "python",
   "name": "python3"
  },
  "language_info": {
   "codemirror_mode": {
    "name": "ipython",
    "version": 3
   },
   "file_extension": ".py",
   "mimetype": "text/x-python",
   "name": "python",
   "nbconvert_exporter": "python",
   "pygments_lexer": "ipython3",
   "version": "3.8.8"
  }
 },
 "nbformat": 4,
 "nbformat_minor": 5
}
