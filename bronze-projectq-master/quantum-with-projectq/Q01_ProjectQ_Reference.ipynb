{
 "cells": [
  {
   "cell_type": "markdown",
   "metadata": {},
   "source": [
    "<a href=\"https://qworld.net\" target=\"_blank\" align=\"left\"><img src=\"./images/header.jpg\"  align=\"left\"></a>\n",
    "$ \\newcommand{\\bra}[1]{\\langle #1|} $\n",
    "$ \\newcommand{\\ket}[1]{|#1\\rangle} $\n",
    "$ \\newcommand{\\braket}[2]{\\langle #1|#2\\rangle} $\n",
    "$ \\newcommand{\\dot}[2]{ #1 \\cdot #2} $\n",
    "$ \\newcommand{\\biginner}[2]{\\left\\langle #1,#2\\right\\rangle} $\n",
    "$ \\newcommand{\\mymatrix}[2]{\\left( \\begin{array}{#1} #2\\end{array} \\right)} $\n",
    "$ \\newcommand{\\myvector}[1]{\\mymatrix{c}{#1}} $\n",
    "$ \\newcommand{\\myrvector}[1]{\\mymatrix{r}{#1}} $\n",
    "$ \\newcommand{\\mypar}[1]{\\left( #1 \\right)} $\n",
    "$ \\newcommand{\\mybigpar}[1]{ \\Big( #1 \\Big)} $\n",
    "$ \\newcommand{\\sqrttwo}{\\frac{1}{\\sqrt{2}}} $\n",
    "$ \\newcommand{\\dsqrttwo}{\\dfrac{1}{\\sqrt{2}}} $\n",
    "$ \\newcommand{\\onehalf}{\\frac{1}{2}} $\n",
    "$ \\newcommand{\\donehalf}{\\dfrac{1}{2}} $\n",
    "$ \\newcommand{\\hadamard}{ \\mymatrix{rr}{ \\sqrttwo & \\sqrttwo \\\\ \\sqrttwo & -\\sqrttwo }} $\n",
    "$ \\newcommand{\\vzero}{\\myvector{1\\\\0}} $\n",
    "$ \\newcommand{\\vone}{\\myvector{0\\\\1}} $\n",
    "$ \\newcommand{\\stateplus}{\\myvector{ \\sqrttwo \\\\  \\sqrttwo } } $\n",
    "$ \\newcommand{\\stateminus}{ \\myrvector{ \\sqrttwo \\\\ -\\sqrttwo } } $\n",
    "$ \\newcommand{\\myarray}[2]{ \\begin{array}{#1}#2\\end{array}} $\n",
    "$ \\newcommand{\\X}{ \\mymatrix{cc}{0 & 1 \\\\ 1 & 0}  } $\n",
    "$ \\newcommand{\\I}{ \\mymatrix{rr}{1 & 0 \\\\ 0 & 1}  } $\n",
    "$ \\newcommand{\\Z}{ \\mymatrix{rr}{1 & 0 \\\\ 0 & -1}  } $\n",
    "$ \\newcommand{\\Htwo}{ \\mymatrix{rrrr}{ \\frac{1}{2} & \\frac{1}{2} & \\frac{1}{2} & \\frac{1}{2} \\\\ \\frac{1}{2} & -\\frac{1}{2} & \\frac{1}{2} & -\\frac{1}{2} \\\\ \\frac{1}{2} & \\frac{1}{2} & -\\frac{1}{2} & -\\frac{1}{2} \\\\ \\frac{1}{2} & -\\frac{1}{2} & -\\frac{1}{2} & \\frac{1}{2} } } $\n",
    "$ \\newcommand{\\CNOT}{ \\mymatrix{cccc}{1 & 0 & 0 & 0 \\\\ 0 & 1 & 0 & 0 \\\\ 0 & 0 & 0 & 1 \\\\ 0 & 0 & 1 & 0} } $\n",
    "$ \\newcommand{\\norm}[1]{ \\left\\lVert #1 \\right\\rVert } $\n",
    "$ \\newcommand{\\pstate}[1]{ \\lceil \\mspace{-1mu} #1 \\mspace{-1.5mu} \\rfloor } $\n",
    "$ \\newcommand{\\greenbit}[1] {\\mathbf{{\\color{green}#1}}} $\n",
    "$ \\newcommand{\\bluebit}[1] {\\mathbf{{\\color{blue}#1}}} $\n",
    "$ \\newcommand{\\redbit}[1] {\\mathbf{{\\color{red}#1}}} $\n",
    "$ \\newcommand{\\brownbit}[1] {\\mathbf{{\\color{brown}#1}}} $\n",
    "$ \\newcommand{\\blackbit}[1] {\\mathbf{{\\color{black}#1}}} $"
   ]
  },
  {
   "cell_type": "markdown",
   "metadata": {},
   "source": [
    "<font style=\"font-size:28px;\" align=\"left\"><b> ProjectQ: Quick Reference </b></font>\n",
    "<br><br>\n",
    "_prepared by Vishal Sharathchandra Bajpe, Marija Šćekić, and Abuzer Yakaryilmaz_\n",
    "<br><br>"
   ]
  },
  {
   "cell_type": "markdown",
   "metadata": {},
   "source": [
    "<hr>\n",
    "<h3> Important import statements in ProjectQ </h3>"
   ]
  },
  {
   "cell_type": "markdown",
   "metadata": {},
   "source": [
    "Import the engine classes, simulators and supplementary engine methods you need to use for your program\n",
    "\n",
    "    - from projectq import MainEngine\n",
    "    - from projectq.backends import CircuitDrawerMatplotlib, Simulator\n",
    "    - from projectq.setups.default import get_engine_list"
   ]
  },
  {
   "cell_type": "markdown",
   "metadata": {},
   "source": [
    "Note: Always remember to also import in the gates you require from the projectq.ops library for easy gate implementations"
   ]
  },
  {
   "cell_type": "markdown",
   "metadata": {},
   "source": [
    "<hr>\n",
    "<h3>Creating a quantum circuit</h3>"
   ]
  },
  {
   "cell_type": "markdown",
   "metadata": {},
   "source": [
    "To initialize a quantum circuit you declare a main engine object with your backends and engines that you will use. \n",
    "\n",
    "Here is the most common use with the default simulator and the CircuitDrawerMatplotlib drawing engine to draw your circuit.\n",
    "    \n",
    "    qdrawer = CircuitDrawerMatplotlib()\n",
    "    qengine = MainEngine(backend = Simulator(), engine_list = [qdrawer]+get_engine_list())\n",
    "    \n",
    "To allocate qubits we can use the allocate_qubit or allocate_qureg for multiple registers\n",
    "\n",
    "    qubit = qengine.allocate_qubit()\n",
    "    qubits = qengine.allocate_qureg(insert_number_of_qubits)"
   ]
  },
  {
   "cell_type": "markdown",
   "metadata": {},
   "source": [
    "<hr>\n",
    "<h3>One qubit gates</h3>\n",
    "Here are some quick references to implementing one qubit gates in ProjectQ"
   ]
  },
  {
   "cell_type": "markdown",
   "metadata": {},
   "source": [
    "<br>\n",
    "<h4> Pauli X-gate (NOT operator) </h4>\n",
    "\n",
    "$ X = \\mymatrix{cc}{0&1\\\\1&0} $ \n",
    "\n",
    "    X | qubits[index]\n",
    "<br>"
   ]
  },
  {
   "cell_type": "markdown",
   "metadata": {},
   "source": [
    "<h4> Pauli Z-gate (Z operator) </h4>\n",
    "\n",
    "$ Z = \\mymatrix{rr}{1&0\\\\0&-1} $ \n",
    "\n",
    "\n",
    "    Z | qubits[index]\n",
    "<br>"
   ]
  },
  {
   "cell_type": "markdown",
   "metadata": {},
   "source": [
    "<h4> H-gate (Hadamard operator) </h4>\n",
    "\n",
    "$ H = \\hadamard $ \n",
    "\n",
    "    H | qubits[index]\n",
    "<br>"
   ]
  },
  {
   "cell_type": "markdown",
   "metadata": {},
   "source": [
    "<h4> Ry-gate (rotation operator) </h4>\n",
    "\n",
    "This is a rotation operator on a (real-valued) qubit in counter-clockwise direction.\n",
    "\n",
    "The matrix representing the rotation with angle $\\theta$ on two-dimensional space:\n",
    "\n",
    "$ Ry(\\theta) = \\mymatrix{rr}{\\cos(\\theta) & -\\sin(\\theta) \\\\ \\sin(\\theta) & \\cos(\\theta) } $ \n",
    "\n",
    "\n",
    "    Ry(2*theta) | qubits[index]\n",
    "    \n",
    "Remark that we pass the double of the rotation angle for the rotations on the unit circle."
   ]
  },
  {
   "cell_type": "markdown",
   "metadata": {},
   "source": [
    "<hr>\n",
    "<h3>Two-qubit gates</h3>\n",
    "\n",
    "<font color=\"#0000CC\"><i>In ProjectQ, when a quantum register has two qubits $qubit[0]$ and $ qubit[1] $:\n",
    "    \n",
    "they are combined as $ qubit[1] \\otimes qubit[0] $.</i></font> "
   ]
  },
  {
   "cell_type": "markdown",
   "metadata": {},
   "source": [
    "<b> CNOT-gate (CNOT operator or Controlled X-gate)</b>"
   ]
  },
  {
   "cell_type": "markdown",
   "metadata": {},
   "source": [
    "Its matrix form is as follows:\n",
    "\n",
    "$ CNOT = \\mymatrix{cccc}{\\blackbit{1} & 0 & 0 & 0 \\\\ 0 & \\blackbit{1} & 0 & 0 \\\\ 0 & 0 & 0 & \\bluebit{1} \\\\ 0 & 0 & \\bluebit{1} & 0} . $\n",
    "<br><br>\n",
    "\n",
    "CNOT(controller,target) operator can be implemented in many different ways in ProjectQ:\n",
    "\n",
    "    CNOT | (qubits[1],qubits[0])\n",
    "    C(NOT) | (qubits[1],qubits[0])\n",
    "    C(X, 1) | (qubit[1], qubit[0])\n",
    "\n",
    "Here the control qubit is qubits[1] and the target qubit is qubits[0]."
   ]
  },
  {
   "cell_type": "markdown",
   "metadata": {},
   "source": [
    "<b>Controlled Ry-gate</b>\n",
    "\n",
    "We use this gate for controlled Ry operator."
   ]
  },
  {
   "cell_type": "markdown",
   "metadata": {},
   "source": [
    "$ CRy(\\theta) = \\mymatrix{cccr}{1 & 0 & 0 & 0 \\\\ 0 & 1 & 0 & 0  \\\\ 0 & 0 & \\cos \\theta & -\\sin \\theta \\\\ 0 & 0 & \\sin \\theta & \\cos \\theta} . $\n",
    "<br><br>\n",
    "\n",
    "We use the general format of controlled operator in ProjectQ:\n",
    "\n",
    "    C(Ry(2*theta),1) | (qubit[1],qubit[2])\n",
    "    \n",
    "Here the control qubit is qubits[1] and the target qubit is qubits[0]."
   ]
  },
  {
   "cell_type": "markdown",
   "metadata": {},
   "source": [
    "<hr>\n",
    "<h3>Three-qubit gate</h3>\n",
    "\n",
    "<font color=\"#0000CC\"><i>In ProjectQ, when the system has three qubits $qubit[0], qubit[1], qubit[2] $:\n",
    "    \n",
    "they are combined as $ qubit[2] \\otimes qreg[1] \\otimes qubit[0] $.</i></font> "
   ]
  },
  {
   "cell_type": "markdown",
   "metadata": {},
   "source": [
    "<b>ccx-gate (Toffoli (CCNOT) operator)</b>"
   ]
  },
  {
   "cell_type": "markdown",
   "metadata": {},
   "source": [
    "$ CCNOT = \\mymatrix{cccccccc}{\n",
    "    \\blackbit{1} & 0 & 0 & 0 & 0 & 0 & 0 & 0 \\\\ \n",
    "    0 & \\blackbit{1} & 0 & 0 & 0 & 0 & 0 & 0 \\\\\n",
    "    0 & 0 & \\blackbit{1} & 0 & 0 & 0 & 0 & 0 \\\\\n",
    "    0 & 0 & 0 & \\blackbit{1} & 0 & 0 & 0 & 0 \\\\\n",
    "    0 & 0 & 0 & 0 & \\blackbit{1} & 0 & 0 & 0 \\\\\n",
    "    0 & 0 & 0 & 0 & 0 & \\blackbit{1} & 0 & 0 \\\\\n",
    "    0 & 0 & 0 & 0 & 0 & 0 & 0 & \\bluebit{1} \\\\\n",
    "    0 & 0 & 0 & 0 & 0 & 0 & \\bluebit{1} & 0 \\\\ \n",
    "    } . $\n",
    "<br><br>\n",
    "\n",
    "    C(X, 2) | (qubits[2],qubits[1],qubits[0])\n",
    "    C(X, 2) | ([qubits[2],qubits[1]],qubits[0])\n",
    "    \n",
    "Here the control qubits are qubits[12] and qubits[1], and the target qubit is qubits[0].\n",
    "\n",
    "The number of controlled qubits can be generalized to $ n $ as follows:\n",
    "\n",
    "    C(X,n) | ([qubits[n],qubits[n-1],...,qubits[1]],qubits[0])"
   ]
  },
  {
   "cell_type": "markdown",
   "metadata": {},
   "source": [
    "<hr>\n",
    "<h3>Measuring a quantum circuit</h3>"
   ]
  },
  {
   "cell_type": "markdown",
   "metadata": {},
   "source": [
    "We send the circuit to the simulator backend by using method 'flush':\n",
    "\n",
    "    qengine.flush()\n",
    "    \n",
    "A single qubit can be measured as follows:\n",
    "\n",
    "    Measure | qubit\n",
    "    Measure | qubits[i]\n",
    "    \n",
    "A quantum register can be measured as follows:\n",
    "\n",
    "    All(Measure) | qubits\n",
    "\n",
    "After measurement(s), the outcomes are accessed thourogh the qubit(s). \n",
    "\n",
    "The outcome of a single qubit can be read as an integer as:\n",
    "\n",
    "    int(qubits[i])\n",
    "    \n",
    "The outcome of a quantum register can be read as a binary string.\n",
    "<br>\n",
    "Let $ b_i $ be the measurement outcome on qubit[i]. \n",
    "<br> \n",
    "We can combine the binary string as $ b_0b_1 \\cdots b_n $ or $ b_nb_{n-1}\\cdots b_0 $.\n",
    "\n",
    "The former string ($ b_0b_1 \\cdots b_n $) can be obtained as\n",
    "\n",
    "    outcome = \"\"\n",
    "    for q in qubits: # access each qubit one by one\n",
    "        bit = int(q) # read the single outcome\n",
    "        outcome = outcome + str(bit)\n",
    "\n",
    "For latter string ($ b_nb_{n-1}\\cdots b_0 $) can be obtained as:\n",
    "\n",
    "    outcome = \"\"\n",
    "    for q in qubits: # access each qubit one by one\n",
    "        bit = int(q) # read the single outcome\n",
    "        outcome = str(bit) + outcome\n",
    "\n",
    "<br><br>\n",
    "*By using certain python methods, you may shorten your code in each case.*"
   ]
  },
  {
   "cell_type": "markdown",
   "metadata": {},
   "source": [
    "<hr>\n",
    "<h3>Drawing or printing a quantum circuit</h3>"
   ]
  },
  {
   "cell_type": "markdown",
   "metadata": {},
   "source": [
    "There are different methods to draw a circuit. We suggest to use the followin method.\n",
    "\n",
    "ProjectQ has a class \"CircuitDrawerMatplotlib\" using Matplotlib library to draw the circuit.\n",
    "<br>\n",
    "It can be used as follows:\n",
    "\n",
    "    qdrawer = CircuitDrawerMatplotlib()\n",
    "    qengine = MainEngine(backend = Simulator(), engine_list = [qdrawer]+get_engine_list())\n",
    "    ...\n",
    "    qdrawer.draw()\n",
    "    \n",
    "We can pass the qubit name by a dictionary as follows:\n",
    "\n",
    "    qdrawer.draw(qubit_labels={0:'q0', 1:'q1', 2:'q2'})\n",
    "\n",
    "Here the keys are the qubit IDs (0,1,2,...), and the values are the qubit labels.\n",
    "    \n",
    "We can pass the drawing order of the qubits as a dictionary as follows\n",
    "    \n",
    "    qdrawer.draw(drawing_order={0:0, 1:2, 2:1})\n",
    "    \n",
    "Here the key values are the positions goes from bottom to top (0 to $n$), and the values are qubit IDs (0,1,2,...)."
   ]
  },
  {
   "cell_type": "markdown",
   "metadata": {},
   "source": [
    "_There also exists another class for circuit drawing in the CircuitDrawer which can draw the circuit and output it using LaTex._"
   ]
  },
  {
   "cell_type": "markdown",
   "metadata": {},
   "source": [
    "<hr>\n",
    "<h3>Reading the quantum state of a circuit</h3>\n",
    "\n",
    "The quantum state of a circuit (at any point) can be read by using a method of \"Simulator\" backend called \"cheat\":\n",
    "\n",
    "    qengine.flush() # do not forget to flush all gates until now\n",
    "    qstate = qengine.backend.cheat()[1] \n",
    "    \n",
    "Here \"qstate\" is a list of complex valued amplitudes of basis states.\n",
    "\n",
    "We can access each amplitude as:\n",
    "\n",
    "    for amp in qstate:\n",
    "        print(amp) # complex valued of amplitude\n",
    "        print(amp.real) # real part of this complex number\n",
    "        print(amp.imag) # imaginary part of this complex number"
   ]
  },
  {
   "cell_type": "markdown",
   "metadata": {},
   "source": [
    "<hr>\n",
    "<h3>Reading the unitary operator of a circuit</h3>\n",
    "\n",
    "The backend \"UnitarySimulator()\" gives a unitary representation of all gates in the circuit until that point:\n",
    "\n",
    "    qengine = MainEngine(backend=UnitarySimulator(), engine_list=[])\n",
    "    ...\n",
    "    qengine.flush() # do not forget to flush all gates until now\n",
    "    current_unitary = qengine.backend.unitary\n",
    "    \n",
    "The result is a double list of complex numbers (bacause it is a matrix).\n",
    "\n",
    "We can access each entry as:\n",
    "\n",
    "    for row in current_unitary: # read row by row\n",
    "        for amp in row: # read each entry of the selected row\n",
    "            print(amp) # complex valued of the transition amplitude\n",
    "            print(amp.real) # real part of this complex number\n",
    "            print(amp.imag) # imaginary part of this complex number \n",
    "\n",
    "Note that any gate applied after measurement of unitary or deallocation of qubit will reset the unitary."
   ]
  },
  {
   "cell_type": "markdown",
   "metadata": {},
   "source": [
    "<hr>\n",
    "<h3>Executing a quantum program on an IBM QX Simulator</h3>"
   ]
  },
  {
   "cell_type": "markdown",
   "metadata": {},
   "source": [
    "You can use the IBM Q experience backends for executing your circuits. This includes their classical simulators too. <br><font color=\"#0000CC\"><i>Bear in mind, you will need your API key to access the same, even the simulators will need the API key for access.</i></font>\n",
    "\n",
    "<br>\n",
    "Lets import the IBM backend<br>\n",
    "\n",
    "    from projectq.setups import ibm\n",
    "    from projectq.backends import IBMBackend\n",
    "    \n",
    "You have to declare the qengine object for IBMQ experience and specify which device to use. \n",
    "\n",
    "Here use \"ibmq-manilla\" as our backend. You can set the number of shots as \"num_runs\" variable.  \n",
    "\n",
    "       qengine = MainEngine(IBMBackend(use_hardware=True, num_runs=1024,verbose=False, device='ibmq-manilla'),\n",
    "                 engine_list=projectq.setups.ibm.get_engine_list())\n",
    "\n",
    "It will ask you for your IBMQ API Key now. Enter it and the rest is basically the same as you would measure in ProjectQ.\n",
    "\n",
    "To use the IBMQ Simulator, set the use_hardware flag as False. Here is the default syntax for the same:\n",
    "\n",
    "       qengine = MainEngine(IBMBackend(use_hardware=False, num_runs=1024, verbose=False, device='ibmq_essex',\n",
    "                   num_retries=3000)\n",
    "        \n",
    "Using any of the IBMQ simulators or backends will also require your IBMQ experience API keys, please do bear that in mind. In general, using any backends except the internal ProjectQ simulator backends will need some kind of API authentication.\n",
    "        \n"
   ]
  }
 ],
 "metadata": {
  "kernelspec": {
   "display_name": "Python 3",
   "language": "python",
   "name": "python3"
  },
  "language_info": {
   "codemirror_mode": {
    "name": "ipython",
    "version": 3
   },
   "file_extension": ".py",
   "mimetype": "text/x-python",
   "name": "python",
   "nbconvert_exporter": "python",
   "pygments_lexer": "ipython3",
   "version": "3.8.10"
  }
 },
 "nbformat": 4,
 "nbformat_minor": 4
}
