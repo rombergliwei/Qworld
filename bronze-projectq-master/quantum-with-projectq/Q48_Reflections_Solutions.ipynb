{
 "cells": [
  {
   "cell_type": "markdown",
   "metadata": {},
   "source": [
    "<a href=\"https://qworld.net\" target=\"_blank\" align=\"left\"><img src=\"./images/header.jpg\"  align=\"left\"></a>\n",
    "$ \\newcommand{\\bra}[1]{\\langle #1|} $\n",
    "$ \\newcommand{\\ket}[1]{|#1\\rangle} $\n",
    "$ \\newcommand{\\braket}[2]{\\langle #1|#2\\rangle} $\n",
    "$ \\newcommand{\\dot}[2]{ #1 \\cdot #2} $\n",
    "$ \\newcommand{\\biginner}[2]{\\left\\langle #1,#2\\right\\rangle} $\n",
    "$ \\newcommand{\\mymatrix}[2]{\\left( \\begin{array}{#1} #2\\end{array} \\right)} $\n",
    "$ \\newcommand{\\myvector}[1]{\\mymatrix{c}{#1}} $\n",
    "$ \\newcommand{\\myrvector}[1]{\\mymatrix{r}{#1}} $\n",
    "$ \\newcommand{\\mypar}[1]{\\left( #1 \\right)} $\n",
    "$ \\newcommand{\\mybigpar}[1]{ \\Big( #1 \\Big)} $\n",
    "$ \\newcommand{\\sqrttwo}{\\frac{1}{\\sqrt{2}}} $\n",
    "$ \\newcommand{\\dsqrttwo}{\\dfrac{1}{\\sqrt{2}}} $\n",
    "$ \\newcommand{\\onehalf}{\\frac{1}{2}} $\n",
    "$ \\newcommand{\\donehalf}{\\dfrac{1}{2}} $\n",
    "$ \\newcommand{\\hadamard}{ \\mymatrix{rr}{ \\sqrttwo & \\sqrttwo \\\\ \\sqrttwo & -\\sqrttwo }} $\n",
    "$ \\newcommand{\\vzero}{\\myvector{1\\\\0}} $\n",
    "$ \\newcommand{\\vone}{\\myvector{0\\\\1}} $\n",
    "$ \\newcommand{\\stateplus}{\\myvector{ \\sqrttwo \\\\  \\sqrttwo } } $\n",
    "$ \\newcommand{\\stateminus}{ \\myrvector{ \\sqrttwo \\\\ -\\sqrttwo } } $\n",
    "$ \\newcommand{\\myarray}[2]{ \\begin{array}{#1}#2\\end{array}} $\n",
    "$ \\newcommand{\\X}{ \\mymatrix{cc}{0 & 1 \\\\ 1 & 0}  } $\n",
    "$ \\newcommand{\\I}{ \\mymatrix{rr}{1 & 0 \\\\ 0 & 1}  } $\n",
    "$ \\newcommand{\\Z}{ \\mymatrix{rr}{1 & 0 \\\\ 0 & -1}  } $\n",
    "$ \\newcommand{\\Htwo}{ \\mymatrix{rrrr}{ \\frac{1}{2} & \\frac{1}{2} & \\frac{1}{2} & \\frac{1}{2} \\\\ \\frac{1}{2} & -\\frac{1}{2} & \\frac{1}{2} & -\\frac{1}{2} \\\\ \\frac{1}{2} & \\frac{1}{2} & -\\frac{1}{2} & -\\frac{1}{2} \\\\ \\frac{1}{2} & -\\frac{1}{2} & -\\frac{1}{2} & \\frac{1}{2} } } $\n",
    "$ \\newcommand{\\CNOT}{ \\mymatrix{cccc}{1 & 0 & 0 & 0 \\\\ 0 & 1 & 0 & 0 \\\\ 0 & 0 & 0 & 1 \\\\ 0 & 0 & 1 & 0} } $\n",
    "$ \\newcommand{\\norm}[1]{ \\left\\lVert #1 \\right\\rVert } $\n",
    "$ \\newcommand{\\pstate}[1]{ \\lceil \\mspace{-1mu} #1 \\mspace{-1.5mu} \\rfloor } $\n",
    "$ \\newcommand{\\greenbit}[1] {\\mathbf{{\\color{green}#1}}} $\n",
    "$ \\newcommand{\\bluebit}[1] {\\mathbf{{\\color{blue}#1}}} $\n",
    "$ \\newcommand{\\redbit}[1] {\\mathbf{{\\color{red}#1}}} $\n",
    "$ \\newcommand{\\brownbit}[1] {\\mathbf{{\\color{brown}#1}}} $\n",
    "$ \\newcommand{\\blackbit}[1] {\\mathbf{{\\color{black}#1}}} $"
   ]
  },
  {
   "cell_type": "markdown",
   "metadata": {},
   "source": [
    "<font style=\"font-size:28px;\" align=\"left\"><b> <font color=\"blue\"> Solutions for </font>Reflections </b></font>"
   ]
  },
  {
   "cell_type": "markdown",
   "metadata": {},
   "source": [
    "_prepared by Abuzer Yakaryilmaz_\n",
    "\n",
    "_ProjectQ adaptation by Vishal Sharathchandra Bajpe and Marija Šćekić_\n",
    "<br><br>"
   ]
  },
  {
   "cell_type": "markdown",
   "metadata": {},
   "source": [
    "<a id=\"task1\"></a>\n",
    "## Task 1\n",
    "\n",
    "Design a quantum circuit with 5 qubits as follows:\n",
    "- Apply H-gate (Hadamard operator) to each qubit\n",
    "- Randomly pick a subset of qubits\n",
    "- Apply Z-gate ($Z$ operator) to these randomly picked qubits, i.e.,\n",
    "\n",
    "\n",
    "    Z | qubits[i]\n",
    "\n",
    "\n",
    "- Apply H-gate to each qubit.\n",
    "- Measure each qubit.\n",
    "\n",
    "Execute your program 1000 times.\n",
    "\n",
    "Compare the outcomes of the qubits affected by Z-gates and the outcomes of the qubits not affected by Z-gates.\n",
    "\n",
    "Does applying Z-gate change the outcome?\n",
    "\n",
    "If so, why?"
   ]
  },
  {
   "cell_type": "markdown",
   "metadata": {},
   "source": [
    "<h3> Solution </h3>"
   ]
  },
  {
   "cell_type": "code",
   "execution_count": null,
   "metadata": {},
   "outputs": [],
   "source": [
    "# Import all necessary libraries\n",
    "from random import randrange\n",
    "from projectq import MainEngine\n",
    "from projectq.ops import Measure, All, H, Z, Barrier\n",
    "from projectq.backends import Simulator, CircuitDrawerMatplotlib\n",
    "from projectq.setups.default import get_engine_list\n",
    "from projectq.meta import Loop\n",
    "\n",
    "# Define number of qubits\n",
    "number_of_qubits = 5\n",
    "    \n",
    "# pick a subset of {0,...,number_of_qubits-1}\n",
    "picked_qubits = []\n",
    "for i in range(number_of_qubits):\n",
    "    if randrange(2) == 0:\n",
    "        picked_qubits.append(i)\n",
    "\n",
    "print(\"the indices of picked qubits are\",picked_qubits)        \n",
    "\n",
    "# create the dictionary for the outcomes\n",
    "outcomes={}\n",
    "\n",
    "# the number of iteration\n",
    "iteration = 1000\n",
    "\n",
    "# Run circuit for iteration times\n",
    "for i in range (iteration):\n",
    "    \n",
    "    # Intialize engine objects\n",
    "    qdrawer = CircuitDrawerMatplotlib()\n",
    "    qengine = MainEngine(backend = Simulator(), engine_list = [qdrawer]+get_engine_list())\n",
    "\n",
    "    \n",
    "    # Define circuit paratmeters\n",
    "    qubits = qengine.allocate_qureg(number_of_qubits)\n",
    "\n",
    "    # Apply Hadamard gates at once\n",
    "    All(H) | qubits\n",
    "\n",
    "    for j in picked_qubits:\n",
    "            Z | qubits[j]\n",
    "\n",
    "    # Add Hadamard gates at once\n",
    "    All(H) | qubits   \n",
    "\n",
    "    # Barrier gate for visualization\n",
    "    Barrier | qubits\n",
    "\n",
    "    # Measure circuit\n",
    "    All(Measure) | qubits\n",
    "    \n",
    "    qengine.flush() # send the circuit to the simulator\n",
    "    \n",
    "    # read the outcome of the circuit as a binary string\n",
    "    key = \"\"\n",
    "    for q in qubits: # read the outcome of each qubit\n",
    "        key = key + str(int(q)) # append each outcome\n",
    "    if key in outcomes: outcomes[key]+=1 # increase the frequency of key by 1\n",
    "    else: outcomes[key] = 1 # create the key with value 1\n",
    "\n",
    "# draw the circuit        \n",
    "qdrawer.draw()\n",
    "\n",
    "print(\"Outcomes are\",outcomes)"
   ]
  },
  {
   "cell_type": "markdown",
   "metadata": {},
   "source": [
    "<a id=\"task2\"></a>\n",
    "## Task 2\n",
    "\n",
    "Randomly create a quantum state and multiply it with Hadamard matrix to find its reflection.\n",
    "\n",
    "Draw both states.\n",
    "\n",
    "Repeat the task for a few times."
   ]
  },
  {
   "cell_type": "markdown",
   "metadata": {},
   "source": [
    "<h3>Solution</h3>"
   ]
  },
  {
   "cell_type": "markdown",
   "metadata": {},
   "source": [
    "A function for randomly creating a 2-dimensional quantum state:"
   ]
  },
  {
   "cell_type": "code",
   "execution_count": null,
   "metadata": {},
   "outputs": [],
   "source": [
    "# randomly create a 2-dimensional quantum state\n",
    "from math import cos, sin, pi\n",
    "from random import randrange\n",
    "def random_qstate_by_angle():\n",
    "    angle_degree = randrange(360)\n",
    "    angle_radian = 2*pi*angle_degree/360\n",
    "    return [cos(angle_radian),sin(angle_radian)]"
   ]
  },
  {
   "cell_type": "code",
   "execution_count": null,
   "metadata": {},
   "outputs": [],
   "source": [
    "%run quantum.py\n",
    "\n",
    "draw_qubit()\n",
    "\n",
    "# line of reflection for Hadamard\n",
    "from matplotlib.pyplot import arrow\n",
    "arrow(-1.109,-0.459,2.218,0.918,linestyle='dotted',color='red')\n",
    "\n",
    "[x1,y1] = random_qstate_by_angle()\n",
    "\n",
    "print(x1,y1)\n",
    "\n",
    "sqrttwo=2**0.5\n",
    "oversqrttwo = 1/sqrttwo\n",
    "\n",
    "[x2,y2] = [ oversqrttwo*x1 + oversqrttwo*y1 , oversqrttwo*x1 - oversqrttwo*y1 ]\n",
    "\n",
    "print(x2,y2)\n",
    "\n",
    "draw_quantum_state(x1,y1,\"main\")\n",
    "\n",
    "draw_quantum_state(x2,y2,\"ref\")\n",
    "\n",
    "show_plt()"
   ]
  },
  {
   "cell_type": "markdown",
   "metadata": {},
   "source": [
    "<a id=\"task3\"></a>\n",
    "<h3> Task 3 </h3>\n",
    "\n",
    "Find the matrix representing the reflection over the line $y=x$.\n",
    "\n",
    "<i>Hint: Think about the reflections of the points $ \\myrvector{0 \\\\ 1} $, $ \\myrvector{-1 \\\\ 0} $, and $ \\myrvector{-\\sqrttwo \\\\ \\sqrttwo} $ over the line $y=x$.</i>\n",
    "\n",
    "Randomly create a quantum state and multiply it with this matrix to find its reflection over the line $y = x$.\n",
    "\n",
    "Draw both states.\n",
    "\n",
    "Repeat the task for a few times."
   ]
  },
  {
   "cell_type": "markdown",
   "metadata": {},
   "source": [
    "<h3>Solution</h3>"
   ]
  },
  {
   "cell_type": "markdown",
   "metadata": {},
   "source": [
    "The reflection over the line $y=x$ swaps the first and second amplitudes.\n",
    "\n",
    "This is the operetor NOT: $ X = \\mymatrix{rr}{0 & 1 \\\\ 1 & 0} $."
   ]
  },
  {
   "cell_type": "markdown",
   "metadata": {},
   "source": [
    "A function for randomly creating a 2-dimensional quantum state:"
   ]
  },
  {
   "cell_type": "code",
   "execution_count": null,
   "metadata": {},
   "outputs": [],
   "source": [
    "# randomly create a 2-dimensional quantum state\n",
    "from math import cos, sin, pi\n",
    "from random import randrange\n",
    "def random_qstate_by_angle():\n",
    "    angle_degree = randrange(360)\n",
    "    angle_radian = 2*pi*angle_degree/360\n",
    "    return [cos(angle_radian),sin(angle_radian)]"
   ]
  },
  {
   "cell_type": "markdown",
   "metadata": {},
   "source": [
    "Reflecting the randomly picked quantum state over the line $y=x$. "
   ]
  },
  {
   "cell_type": "code",
   "execution_count": null,
   "metadata": {},
   "outputs": [],
   "source": [
    "%run quantum.py\n",
    "\n",
    "draw_qubit()\n",
    "\n",
    "# the line y=x\n",
    "from matplotlib.pyplot import arrow\n",
    "arrow(-1,-1,2,2,linestyle='dotted',color='red')\n",
    "\n",
    "[x1,y1] = random_qstate_by_angle()\n",
    "\n",
    "[x2,y2] = [y1,x1]\n",
    "\n",
    "draw_quantum_state(x1,y1,\"main\")\n",
    "draw_quantum_state(x2,y2,\"ref\")\n",
    "\n",
    "show_plt()"
   ]
  }
 ],
 "metadata": {
  "kernelspec": {
   "display_name": "Python 3",
   "language": "python",
   "name": "python3"
  },
  "language_info": {
   "codemirror_mode": {
    "name": "ipython",
    "version": 3
   },
   "file_extension": ".py",
   "mimetype": "text/x-python",
   "name": "python",
   "nbconvert_exporter": "python",
   "pygments_lexer": "ipython3",
   "version": "3.7.1"
  }
 },
 "nbformat": 4,
 "nbformat_minor": 4
}
