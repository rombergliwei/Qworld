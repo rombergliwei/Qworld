{
 "cells": [
  {
   "cell_type": "markdown",
   "metadata": {},
   "source": [
    "<a href=\"https://qworld.net\" target=\"_blank\" align=\"left\"><img src=\"../qworld/images/header.jpg\"  align=\"left\"></a>\n",
    "$ \\newcommand{\\bra}[1]{\\langle #1|} $\n",
    "$ \\newcommand{\\ket}[1]{|#1\\rangle} $\n",
    "$ \\newcommand{\\braket}[2]{\\langle #1|#2\\rangle} $\n",
    "$ \\newcommand{\\dot}[2]{ #1 \\cdot #2} $\n",
    "$ \\newcommand{\\biginner}[2]{\\left\\langle #1,#2\\right\\rangle} $\n",
    "$ \\newcommand{\\mymatrix}[2]{\\left( \\begin{array}{#1} #2\\end{array} \\right)} $\n",
    "$ \\newcommand{\\myvector}[1]{\\mymatrix{c}{#1}} $\n",
    "$ \\newcommand{\\myrvector}[1]{\\mymatrix{r}{#1}} $\n",
    "$ \\newcommand{\\mypar}[1]{\\left( #1 \\right)} $\n",
    "$ \\newcommand{\\mybigpar}[1]{ \\Big( #1 \\Big)} $\n",
    "$ \\newcommand{\\sqrttwo}{\\frac{1}{\\sqrt{2}}} $\n",
    "$ \\newcommand{\\dsqrttwo}{\\dfrac{1}{\\sqrt{2}}} $\n",
    "$ \\newcommand{\\onehalf}{\\frac{1}{2}} $\n",
    "$ \\newcommand{\\donehalf}{\\dfrac{1}{2}} $\n",
    "$ \\newcommand{\\hadamard}{ \\mymatrix{rr}{ \\sqrttwo & \\sqrttwo \\\\ \\sqrttwo & -\\sqrttwo }} $\n",
    "$ \\newcommand{\\vzero}{\\myvector{1\\\\0}} $\n",
    "$ \\newcommand{\\vone}{\\myvector{0\\\\1}} $\n",
    "$ \\newcommand{\\stateplus}{\\myvector{ \\sqrttwo \\\\  \\sqrttwo } } $\n",
    "$ \\newcommand{\\stateminus}{ \\myrvector{ \\sqrttwo \\\\ -\\sqrttwo } } $\n",
    "$ \\newcommand{\\myarray}[2]{ \\begin{array}{#1}#2\\end{array}} $\n",
    "$ \\newcommand{\\X}{ \\mymatrix{cc}{0 & 1 \\\\ 1 & 0}  } $\n",
    "$ \\newcommand{\\I}{ \\mymatrix{rr}{1 & 0 \\\\ 0 & 1}  } $\n",
    "$ \\newcommand{\\Z}{ \\mymatrix{rr}{1 & 0 \\\\ 0 & -1}  } $\n",
    "$ \\newcommand{\\Htwo}{ \\mymatrix{rrrr}{ \\frac{1}{2} & \\frac{1}{2} & \\frac{1}{2} & \\frac{1}{2} \\\\ \\frac{1}{2} & -\\frac{1}{2} & \\frac{1}{2} & -\\frac{1}{2} \\\\ \\frac{1}{2} & \\frac{1}{2} & -\\frac{1}{2} & -\\frac{1}{2} \\\\ \\frac{1}{2} & -\\frac{1}{2} & -\\frac{1}{2} & \\frac{1}{2} } } $\n",
    "$ \\newcommand{\\CNOT}{ \\mymatrix{cccc}{1 & 0 & 0 & 0 \\\\ 0 & 1 & 0 & 0 \\\\ 0 & 0 & 0 & 1 \\\\ 0 & 0 & 1 & 0} } $\n",
    "$ \\newcommand{\\norm}[1]{ \\left\\lVert #1 \\right\\rVert } $\n",
    "$ \\newcommand{\\pstate}[1]{ \\lceil \\mspace{-1mu} #1 \\mspace{-1.5mu} \\rfloor } $\n",
    "$ \\newcommand{\\greenbit}[1] {\\mathbf{{\\color{green}#1}}} $\n",
    "$ \\newcommand{\\bluebit}[1] {\\mathbf{{\\color{blue}#1}}} $\n",
    "$ \\newcommand{\\redbit}[1] {\\mathbf{{\\color{red}#1}}} $\n",
    "$ \\newcommand{\\brownbit}[1] {\\mathbf{{\\color{brown}#1}}} $\n",
    "$ \\newcommand{\\blackbit}[1] {\\mathbf{{\\color{black}#1}}} $"
   ]
  },
  {
   "cell_type": "markdown",
   "metadata": {},
   "source": [
    "<font style=\"font-size:28px;\" align=\"left\"><b> Quantum Teleportation with ProjectQ </b></font>\n",
    "<br>\n",
    "_prepared by Abuzer Yakaryilmaz_\n",
    "\n",
    "_ProjectQ adaptation by Vishal Sharathchandra Bajpe and Marija Šćekić_\n",
    "<br><br>\n"
   ]
  },
  {
   "cell_type": "markdown",
   "metadata": {},
   "source": [
    "<hr>\n",
    "\n",
    "_**Prepare a few blank sheets of paper**_\n",
    "- _**to draw the circuit of the following protocol step by step and**_\n",
    "- _**to solve some of tasks requiring certain calculations.**_\n",
    "\n",
    "<hr>"
   ]
  },
  {
   "cell_type": "markdown",
   "metadata": {},
   "source": [
    "Asja and Balvis are apart from each other, and Asja wants to send some quantum messages (i.e., a quantum state) to Balvis by using only classical communication.\n",
    "\n",
    "Let $ \\ket{v} = \\myvector{a\\\\b} \\in \\mathbb{R}^2 $ be the quantum state to be sent.\n",
    "\n",
    "If Asja has many copies of this qubit, then she can collect the statistics based on these qubits and obtain an approximation of $ a $ and $ b $, say $ \\tilde{a} $ and $\\tilde{b}$, respectively. After this, Asja can send $ \\tilde{a} $ and $\\tilde{b}$ by using many classical bits, the number of which depends on the precision of the amplitudes. Then, Balvis prepares a qubit in $ \\ket{\\tilde{v}} = \\myvector{ \\tilde{a} \\\\ \\tilde{b} } $.\n",
    "\n",
    "What happens? Asja has only a single copy?\n",
    "\n",
    "If Asja and Balvis share the entangled qubits in state $ \\sqrttwo\\ket{00} + \\sqrttwo\\ket{11} $ in advance, then it is possible for Balvis to create $ \\ket{v} $ in his qubit after receiving two bits of information from Asja. "
   ]
  },
  {
   "cell_type": "markdown",
   "metadata": {},
   "source": [
    "<h3> Protocol </h3>\n",
    "\n",
    "The protocol uses three qubits as specified below:\n",
    "\n",
    "<img src='images/quantum_teleportation_qubits.png' width=\"25%\" align=\"left\">"
   ]
  },
  {
   "cell_type": "markdown",
   "metadata": {},
   "source": [
    "Asja has two qubits and Balvis has one qubit.\n",
    "\n",
    "Asja's quantum message (key) is $ \\ket{v} = \\myvector{a\\\\b} = a\\ket{0} + b\\ket{1} $.\n",
    "\n",
    "The entanglement between Asja's second qubit and Balvis' qubit is  $ \\sqrttwo\\ket{00} + \\sqrttwo\\ket{11} $.\n",
    "\n",
    "So, the quantum state of the three qubits is\n",
    "\n",
    "$$ \\mypar{a\\ket{0} + b\\ket{1}}\\mypar{\\sqrttwo\\ket{00} + \\sqrttwo\\ket{11}} \n",
    "    = \\sqrttwo \\big( a\\ket{000} + a \\ket{011} + b\\ket{100} + b \\ket{111} \\big).  $$"
   ]
  },
  {
   "cell_type": "markdown",
   "metadata": {},
   "source": [
    "<h4> CNOT operator by Asja </h4>\n",
    "\n",
    "Asja applies CNOT gate to her qubits where $q[2]$ is the control qubit and $q[1]$ is the target qubit."
   ]
  },
  {
   "cell_type": "markdown",
   "metadata": {},
   "source": [
    "<h3>Task 1</h3>\n",
    "\n",
    "Calculate the new quantum state after this CNOT operator."
   ]
  },
  {
   "cell_type": "markdown",
   "metadata": {},
   "source": [
    "<a href=\"Q76_Quantum_Teleportation_Solutions.ipynb#task1\">click for our solution</a>"
   ]
  },
  {
   "cell_type": "markdown",
   "metadata": {},
   "source": [
    "<h3>Hadamard operator by Asja</h3>\n",
    "\n",
    "Asja applies Hadamard gate to $q[2]$."
   ]
  },
  {
   "cell_type": "markdown",
   "metadata": {},
   "source": [
    "<h3>Task 2</h3>\n",
    "\n",
    "Calculate the quantum state after after applying this Hadamard operator.\n",
    "\n",
    "Verify that the new quantum state can be represented as:\n",
    "\n",
    "$$  \n",
    "    \\frac{1}{2} \\ket{00} \\big( a\\ket{0}+b\\ket{1} \\big) +\n",
    "    \\frac{1}{2} \\ket{01} \\big( a\\ket{1}+b\\ket{0} \\big) +\n",
    "    \\frac{1}{2} \\ket{10} \\big( a\\ket{0}-b\\ket{1} \\big) +\n",
    "    \\frac{1}{2} \\ket{11} \\big( a\\ket{1}-b\\ket{0} \\big) .\n",
    "$$"
   ]
  },
  {
   "cell_type": "markdown",
   "metadata": {},
   "source": [
    "<a href=\"Q76_Quantum_Teleportation_Solutions.ipynb#task2\">click for our solution</a>"
   ]
  },
  {
   "cell_type": "markdown",
   "metadata": {},
   "source": [
    "<h3> Measurement by Asja </h3>\n",
    "\n",
    "Asja measures her qubits. With probability $ \\frac{1}{4} $, she can observe one of the basis states.\n",
    "\n",
    "Depeding on the measurement outcomes, Balvis' qubit is in one of the following states:\n",
    "<ol>\n",
    "    <li> \"00\": $ \\ket{v_{00}} = a\\ket{0} + b \\ket{1} $ </li>\n",
    "    <li> \"01\": $ \\ket{v_{01}} =  a\\ket{1} + b \\ket{0} $ </li>\n",
    "    <li> \"10\": $ \\ket{v_{10}} =  a\\ket{0} - b \\ket{1} $ </li>\n",
    "    <li> \"11\": $ \\ket{v_{11}} =  a\\ket{1} - b \\ket{0} $ </li>\n",
    "</ol>"
   ]
  },
  {
   "cell_type": "markdown",
   "metadata": {},
   "source": [
    "As can be observed, the amplitudes $ a $ and $ b $ are \"transferred\" to Balvis' qubit in each case.\n",
    "\n",
    "If Asja sends the measurement outcomes, then Balvis can construct $ \\ket{v} $ exactly."
   ]
  },
  {
   "cell_type": "markdown",
   "metadata": {},
   "source": [
    "<h3>Task 3</h3>\n",
    "\n",
    "Asja sends the measurement outcomes to Balvis by using two classical bits: $ x $ and $ y $. \n",
    "\n",
    "For each $ (x,y) $ pair, determine the quantum operator(s) that Balvis can apply to obtain $ \\ket{v} = a\\ket{0}+b\\ket{1} $ exactly."
   ]
  },
  {
   "cell_type": "markdown",
   "metadata": {},
   "source": [
    "<a href=\"Q76_Quantum_Teleportation_Solutions.ipynb#task3\">click for our solution</a>"
   ]
  },
  {
   "cell_type": "markdown",
   "metadata": {},
   "source": [
    "<h3> Task 4 </h3>\n",
    "\n",
    "Create a quantum circuit with three qubits as described at the beginning of this notebook.\n",
    "\n",
    "Implement the protocol given above until Asja makes the measurements (included).\n",
    "- The state of $q[2]$ can be set by the rotation with a randomly picked angle.\n",
    "- Remark that Balvis does not make any measurement.\n",
    "\n",
    "At this point, read the state vector of the circuit by using \"Simulator.cheat()\". \n",
    "\n",
    "<i>When a circuit with measurement(s) is simulated by \"Simulator.cheat()\", the simulator implements the measurement(s) and so returns the state vector accordingly.</i>\n",
    "\n",
    "Verify that the state of Balvis' qubit is in one of these: $ \\ket{v_{00}}$, $ \\ket{v_{01}}$, $ \\ket{v_{10}}$, and $ \\ket{v_{11}}$.\n",
    "\n",
    "Guess the measurement outcome obtained by \"Simulator.cheat()\" by checking the entries of the state vector."
   ]
  },
  {
   "cell_type": "code",
   "execution_count": null,
   "metadata": {},
   "outputs": [],
   "source": [
    "# Import necessary classes and functions for creating circuits \n",
    "from projectq import MainEngine\n",
    "from projectq.ops import H,X,Measure,All, C, NOT\n",
    "from projectq.backends import CircuitDrawerMatplotlib, Simulator\n",
    "from projectq.setups.default import get_engine_list\n",
    "\n",
    "######################\n",
    "# Enter your code here\n",
    "######################"
   ]
  },
  {
   "cell_type": "markdown",
   "metadata": {},
   "source": [
    "<a href=\"Q76_Quantum_Teleportation_Solutions.ipynb#task4\">click for our solution</a>"
   ]
  },
  {
   "cell_type": "markdown",
   "metadata": {},
   "source": [
    "<h3> Task 5 </h3>\n",
    "\n",
    "Implement the protocol above by including the post-processing part done by Balvis, i.e., the measurement results by Asja are sent to Balvis and then he may apply $ X $ or $ Z $ gates depending on the measurement results.\n",
    "\n",
    "Here is an example of how to apply a quantum operator controlled by a measurement outcome:\n",
    "\n",
    "    if int(qubits[2]) == 1: # the condition is satisfied if the state of qubits[2] is |1>\n",
    "        X | qubits[0] # X-gate is applied\n",
    "\n",
    "Read the state vector and verify that Balvis' state is $ \\myvector{a \\\\ b} $ after the post-processing."
   ]
  },
  {
   "cell_type": "code",
   "execution_count": null,
   "metadata": {},
   "outputs": [],
   "source": [
    "# Import necessary classes and functions for creating circuits \n",
    "from projectq import MainEngine\n",
    "from projectq.ops import H,X,Measure,All, C, NOT\n",
    "from projectq.backends import CircuitDrawerMatplotlib, Simulator\n",
    "from projectq.setups.default import get_engine_list\n",
    "\n",
    "######################\n",
    "# Enter your code here\n",
    "######################\n"
   ]
  },
  {
   "cell_type": "markdown",
   "metadata": {},
   "source": [
    "<a href=\"Q76_Quantum_Teleportation_Solutions.ipynb#task5\">click for our solution</a>"
   ]
  },
  {
   "cell_type": "markdown",
   "metadata": {},
   "source": [
    "<!--\n",
    "<h3> Task 6 (optional) </h3>\n",
    "\n",
    "Observe that Balvis can also t\n",
    "\n",
    "Create a quantum circuit with four qubits and four classical bits.\n",
    "\n",
    "Assume that Asja has the first two qubits (number 3 and 2) and Balvis has the last two qubits (number 1 and 0).\n",
    "\n",
    "Create an entanglement between qubits 2 and 1.\n",
    "\n",
    "Implement the protocol (the state of the qubit can be set by a rotation with randomly picked angle):\n",
    "- If Asja teleports a qubit, then set the state of qubit 3.\n",
    "- If Balvis teleports a qubit, then set the state of qubit 0.\n",
    "-->"
   ]
  }
 ],
 "metadata": {
  "kernelspec": {
   "display_name": "Python 3",
   "language": "python",
   "name": "python3"
  },
  "language_info": {
   "codemirror_mode": {
    "name": "ipython",
    "version": 3
   },
   "file_extension": ".py",
   "mimetype": "text/x-python",
   "name": "python",
   "nbconvert_exporter": "python",
   "pygments_lexer": "ipython3",
   "version": "3.8.10"
  }
 },
 "nbformat": 4,
 "nbformat_minor": 4
}
