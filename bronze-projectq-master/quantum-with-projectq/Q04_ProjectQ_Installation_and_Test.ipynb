{
 "cells": [
  {
   "cell_type": "markdown",
   "metadata": {},
   "source": [
    "<a href=\"https://qworld.net\" target=\"_blank\" align=\"left\"><img src=\"../qworld/images/header.jpg\"  align=\"left\"></a>\n",
    "$ \\newcommand{\\bra}[1]{\\langle #1|} $\n",
    "$ \\newcommand{\\ket}[1]{|#1\\rangle} $\n",
    "$ \\newcommand{\\braket}[2]{\\langle #1|#2\\rangle} $\n",
    "$ \\newcommand{\\dot}[2]{ #1 \\cdot #2} $\n",
    "$ \\newcommand{\\biginner}[2]{\\left\\langle #1,#2\\right\\rangle} $\n",
    "$ \\newcommand{\\mymatrix}[2]{\\left( \\begin{array}{#1} #2\\end{array} \\right)} $\n",
    "$ \\newcommand{\\myvector}[1]{\\mymatrix{c}{#1}} $\n",
    "$ \\newcommand{\\myrvector}[1]{\\mymatrix{r}{#1}} $\n",
    "$ \\newcommand{\\mypar}[1]{\\left( #1 \\right)} $\n",
    "$ \\newcommand{\\mybigpar}[1]{ \\Big( #1 \\Big)} $\n",
    "$ \\newcommand{\\sqrttwo}{\\frac{1}{\\sqrt{2}}} $\n",
    "$ \\newcommand{\\dsqrttwo}{\\dfrac{1}{\\sqrt{2}}} $\n",
    "$ \\newcommand{\\onehalf}{\\frac{1}{2}} $\n",
    "$ \\newcommand{\\donehalf}{\\dfrac{1}{2}} $\n",
    "$ \\newcommand{\\hadamard}{ \\mymatrix{rr}{ \\sqrttwo & \\sqrttwo \\\\ \\sqrttwo & -\\sqrttwo }} $\n",
    "$ \\newcommand{\\vzero}{\\myvector{1\\\\0}} $\n",
    "$ \\newcommand{\\vone}{\\myvector{0\\\\1}} $\n",
    "$ \\newcommand{\\stateplus}{\\myvector{ \\sqrttwo \\\\  \\sqrttwo } } $\n",
    "$ \\newcommand{\\stateminus}{ \\myrvector{ \\sqrttwo \\\\ -\\sqrttwo } } $\n",
    "$ \\newcommand{\\myarray}[2]{ \\begin{array}{#1}#2\\end{array}} $\n",
    "$ \\newcommand{\\X}{ \\mymatrix{cc}{0 & 1 \\\\ 1 & 0}  } $\n",
    "$ \\newcommand{\\I}{ \\mymatrix{rr}{1 & 0 \\\\ 0 & 1}  } $\n",
    "$ \\newcommand{\\Z}{ \\mymatrix{rr}{1 & 0 \\\\ 0 & -1}  } $\n",
    "$ \\newcommand{\\Htwo}{ \\mymatrix{rrrr}{ \\frac{1}{2} & \\frac{1}{2} & \\frac{1}{2} & \\frac{1}{2} \\\\ \\frac{1}{2} & -\\frac{1}{2} & \\frac{1}{2} & -\\frac{1}{2} \\\\ \\frac{1}{2} & \\frac{1}{2} & -\\frac{1}{2} & -\\frac{1}{2} \\\\ \\frac{1}{2} & -\\frac{1}{2} & -\\frac{1}{2} & \\frac{1}{2} } } $\n",
    "$ \\newcommand{\\CNOT}{ \\mymatrix{cccc}{1 & 0 & 0 & 0 \\\\ 0 & 1 & 0 & 0 \\\\ 0 & 0 & 0 & 1 \\\\ 0 & 0 & 1 & 0} } $\n",
    "$ \\newcommand{\\norm}[1]{ \\left\\lVert #1 \\right\\rVert } $\n",
    "$ \\newcommand{\\pstate}[1]{ \\lceil \\mspace{-1mu} #1 \\mspace{-1.5mu} \\rfloor } $\n",
    "$ \\newcommand{\\greenbit}[1] {\\mathbf{{\\color{green}#1}}} $\n",
    "$ \\newcommand{\\bluebit}[1] {\\mathbf{{\\color{blue}#1}}} $\n",
    "$ \\newcommand{\\redbit}[1] {\\mathbf{{\\color{red}#1}}} $\n",
    "$ \\newcommand{\\brownbit}[1] {\\mathbf{{\\color{brown}#1}}} $\n",
    "$ \\newcommand{\\blackbit}[1] {\\mathbf{{\\color{black}#1}}} $"
   ]
  },
  {
   "cell_type": "markdown",
   "metadata": {},
   "source": [
    "<font style=\"font-size:28px;\" align=\"left\"><b> ProjectQ Installation and Test </b></font>"
   ]
  },
  {
   "cell_type": "markdown",
   "metadata": {},
   "source": [
    "_prepared by Vishal Sharathchandra Bajpe and Abuzer Yakaryilmaz_\n",
    "<br><br>"
   ]
  },
  {
   "cell_type": "markdown",
   "metadata": {},
   "source": [
    "- [Check your system](#check)\n",
    "- [Install ProjectQ](#install)\n",
    "- [Tips](#tips)\n",
    "- [Install faster C++ Simulator (Optional)](#test)"
   ]
  },
  {
   "cell_type": "markdown",
   "metadata": {},
   "source": [
    "<hr id=\"check\">\n",
    "\n",
    "### Check your system\n",
    "\n",
    "Here is a simple quantum program written in ProjectQ. \n",
    "\n",
    "To run the cell, click on \"Run\" in the top left to the run cell (Keyboard shortcut for running the cell is Shift+Enter). It should work without any error if ProjectQ has already been installed.   \n",
    "\n",
    "Otherwise, check the next section!\n",
    "\n",
    "(Please do not worry about the syntax now, we shall look over it in the tutorials.)"
   ]
  },
  {
   "cell_type": "code",
   "execution_count": 1,
   "metadata": {},
   "outputs": [
    {
     "name": "stdout",
     "output_type": "stream",
     "text": [
      "Output 1\n"
     ]
    }
   ],
   "source": [
    "from projectq import MainEngine # import the main compiler engine\n",
    "from projectq.ops import H, Measure # import the operations we want to perform␣\n",
    "\n",
    "qengine = MainEngine() # create a default compiler (the back-end is a simulator)\n",
    "qubit = qengine.allocate_qubit() # allocate 1 qubit\n",
    "H | qubit # apply a Hadamard gate\n",
    "Measure | qubit # measure the qubit\n",
    "qengine.flush() # flush all gates (and execute measurements)\n",
    "print(\"Output {}\".format(int(qubit))) # output measurement result"
   ]
  },
  {
   "cell_type": "markdown",
   "metadata": {},
   "source": [
    "**You should be able to see the Measured value (either 0 or 1) which should indicate it is installed in your system.**\n",
    "\n",
    "If you see a prompt \"(Note: This is the (slow) Python simulator.)\" Please look at the installation section for a fix. Likewise, the python simulator should also work just fine for our workshops."
   ]
  },
  {
   "cell_type": "markdown",
   "metadata": {},
   "source": [
    "<hr id=\"install\">\n",
    "\n",
    "### Install ProjectQ\n",
    "\n",
    "(If you are an experienced user, visit this link: https://github.com/ProjectQ-Framework/ProjectQ and you can potentially compile a simulator with OpenMP support for fast experience)\n",
    "\n",
    "You can install projectQ by executing the following cell:"
   ]
  },
  {
   "cell_type": "code",
   "execution_count": 2,
   "metadata": {},
   "outputs": [
    {
     "name": "stdout",
     "output_type": "stream",
     "text": [
      "Collecting projectq\n",
      "  Downloading projectq-0.7.0.tar.gz (417 kB)\n",
      "  Installing build dependencies: started\n",
      "  Installing build dependencies: finished with status 'done'\n",
      "  Getting requirements to build wheel: started\n",
      "  Getting requirements to build wheel: finished with status 'done'\n",
      "    Preparing wheel metadata: started\n",
      "    Preparing wheel metadata: finished with status 'done'\n",
      "Requirement already satisfied: requests in c:\\users\\weilu\\anaconda3\\lib\\site-packages (from projectq) (2.25.1)\n",
      "Requirement already satisfied: scipy in c:\\users\\weilu\\anaconda3\\lib\\site-packages (from projectq) (1.6.2)\n",
      "Requirement already satisfied: numpy in c:\\users\\weilu\\anaconda3\\lib\\site-packages (from projectq) (1.20.1)\n",
      "Requirement already satisfied: matplotlib>=2.2.3 in c:\\users\\weilu\\anaconda3\\lib\\site-packages (from projectq) (3.3.4)\n",
      "Requirement already satisfied: networkx>=2 in c:\\users\\weilu\\anaconda3\\lib\\site-packages (from projectq) (2.5)\n",
      "Requirement already satisfied: pillow>=6.2.0 in c:\\users\\weilu\\anaconda3\\lib\\site-packages (from matplotlib>=2.2.3->projectq) (8.2.0)\n",
      "Requirement already satisfied: pyparsing!=2.0.4,!=2.1.2,!=2.1.6,>=2.0.3 in c:\\users\\weilu\\anaconda3\\lib\\site-packages (from matplotlib>=2.2.3->projectq) (2.4.7)\n",
      "Requirement already satisfied: python-dateutil>=2.1 in c:\\users\\weilu\\anaconda3\\lib\\site-packages (from matplotlib>=2.2.3->projectq) (2.8.1)\n",
      "Requirement already satisfied: cycler>=0.10 in c:\\users\\weilu\\anaconda3\\lib\\site-packages (from matplotlib>=2.2.3->projectq) (0.10.0)\n",
      "Requirement already satisfied: kiwisolver>=1.0.1 in c:\\users\\weilu\\anaconda3\\lib\\site-packages (from matplotlib>=2.2.3->projectq) (1.3.1)\n",
      "Requirement already satisfied: six in c:\\users\\weilu\\anaconda3\\lib\\site-packages (from cycler>=0.10->matplotlib>=2.2.3->projectq) (1.15.0)\n",
      "Requirement already satisfied: decorator>=4.3.0 in c:\\users\\weilu\\anaconda3\\lib\\site-packages (from networkx>=2->projectq) (5.0.6)\n",
      "Requirement already satisfied: idna<3,>=2.5 in c:\\users\\weilu\\anaconda3\\lib\\site-packages (from requests->projectq) (2.10)\n",
      "Requirement already satisfied: certifi>=2017.4.17 in c:\\users\\weilu\\anaconda3\\lib\\site-packages (from requests->projectq) (2020.12.5)\n",
      "Requirement already satisfied: urllib3<1.27,>=1.21.1 in c:\\users\\weilu\\anaconda3\\lib\\site-packages (from requests->projectq) (1.26.4)\n",
      "Requirement already satisfied: chardet<5,>=3.0.2 in c:\\users\\weilu\\anaconda3\\lib\\site-packages (from requests->projectq) (4.0.0)\n",
      "Building wheels for collected packages: projectq\n",
      "  Building wheel for projectq (PEP 517): started\n",
      "  Building wheel for projectq (PEP 517): finished with status 'done'\n",
      "  Created wheel for projectq: filename=projectq-0.7.0-cp38-cp38-win_amd64.whl size=558503 sha256=9e73457caecffba0a6471a59748fcccf5043a4ff01beb51f453b3e9282dd81ba\n",
      "  Stored in directory: c:\\users\\weilu\\appdata\\local\\pip\\cache\\wheels\\d1\\81\\ce\\ab38074033e3badca0f1bff6726e7a38b00f1d8158b0d27902\n",
      "Successfully built projectq\n",
      "Installing collected packages: projectq\n",
      "Successfully installed projectq-0.7.0\n"
     ]
    }
   ],
   "source": [
    "!pip install projectq --user"
   ]
  },
  {
   "cell_type": "markdown",
   "metadata": {},
   "source": [
    "__*Restart the kernel*__ (check \"Kernel\" menu) to apply the changes to the current notebook. Run the cell below to test it out."
   ]
  },
  {
   "cell_type": "code",
   "execution_count": 2,
   "metadata": {},
   "outputs": [
    {
     "name": "stdout",
     "output_type": "stream",
     "text": [
      "Output 1\n"
     ]
    }
   ],
   "source": [
    "from projectq import MainEngine \n",
    "from projectq.ops import H, Measure\n",
    "\n",
    "# To draw in ProjectQ, we use a special backend called CircuitDrawerMatplotlib.\n",
    "from projectq.backends import CircuitDrawerMatplotlib\n",
    "\n",
    "# Now we create an instance of this backend\n",
    "qdrawer = CircuitDrawerMatplotlib()\n",
    "\n",
    "qengine = MainEngine(engine_list=[qdrawer]) # create a default compiler (the back-end is a simulator)\n",
    "qubit = qengine.allocate_qubit() # allocate 1 qubit\n",
    "H | qubit # apply a Hadamard gate\n",
    "Measure | qubit # measure the qubit\n",
    "qengine.flush() # flush all gates (and execute measurements)\n",
    "print(\"Output {}\".format(int(qubit))) # output measurement result"
   ]
  },
  {
   "cell_type": "code",
   "execution_count": 3,
   "metadata": {
    "scrolled": true
   },
   "outputs": [
    {
     "data": {
      "image/png": "[encoded data removed]",
      "text/plain": [
       "<Figure size 204.9x144 with 1 Axes>"
      ]
     },
     "metadata": {},
     "output_type": "display_data"
    }
   ],
   "source": [
    "# Display circuit\n",
    "qdrawer.draw()\n",
    "Measure | qubit # to avoid warning messages\n",
    "# re-run the cell if the figures are not shown"
   ]
  },
  {
   "cell_type": "markdown",
   "metadata": {},
   "source": [
    "**You are done if you see the output and circuit :)**"
   ]
  },
  {
   "cell_type": "markdown",
   "metadata": {},
   "source": [
    "<hr id=\"tips\">\n",
    "\n",
    "### Tips\n",
    "\n",
    "_Any terminal/shell command can be executed in the notebook cells by putting exclamation mark (!) to the beginning of the command._\n",
    "\n",
    "_$\\rightarrow$ For updating projectq version, execute the following command on a code cell_\n",
    "\n",
    "    !pip install -U projectq --user\n",
    "    \n",
    "_$\\rightarrow$ For uninstall projectq, execute the following command on a code cell_\n",
    "\n",
    "    !pip uninstall projectq"
   ]
  },
  {
   "cell_type": "code",
   "execution_count": null,
   "metadata": {},
   "outputs": [],
   "source": [
    "#!pip install -U projectq --user\n",
    "#!pip uninstall projectq"
   ]
  },
  {
   "cell_type": "markdown",
   "metadata": {},
   "source": [
    "<hr id=\"test\">\n",
    "\n",
    "### To install the faster C++ Simulator (Optional)\n",
    "\n",
    "ProjectQ also has a faster C++ Simulator that needs some additional setting up for install. You need to have a recent version (>=10.0) of g++ and a gcc compiler installed in your system. \n",
    "\n",
    "If the requirements are found, <pre>pip install projectq --user</pre> The above command should automatically build the C++ simulator for you. Here is a straightforward way for Windows systems: \n",
    "\n",
    "- If you are on Windows, download the Windwos 10 SDK from https://developer.microsoft.com/en-us/windows/downloads/windows-10-sdk/ </pre>\n",
    "- Download and install Visual C++ compiler https://visualstudio.microsoft.com/vs/features/cplusplus/</pre>\n",
    "\n",
    "Now your system is setup and ready to go. You can run \n",
    "\n",
    "    !pip install projectq --user \n",
    "    \n",
    "to get the faster simulator built for you automatically.\n",
    "\n",
    "* Note: If you have already installed projectq and it failed to build the faster simulator( if you are getting the slow python simulator prompt, **Please uninstall projectq and reinstall again after downloading the tools above**)\n",
    "\n",
    "This method builds a fairly fast simulator than the fallback python simulator without OpenMP.\n",
    "\n",
    "(For advanced users)\n",
    "For the fastest version, you will have to build it yourself using a different version of g++/gcc/c++ installation other than Visual C++. For more information visit https://github.com/ProjectQ-Framework/ProjectQ"
   ]
  },
  {
   "cell_type": "markdown",
   "metadata": {},
   "source": [
    "### Run this cell to check if it was successful"
   ]
  },
  {
   "cell_type": "code",
   "execution_count": null,
   "metadata": {},
   "outputs": [],
   "source": [
    "from projectq import MainEngine \n",
    "from projectq.ops import H, Measure\n",
    "\n",
    "# To draw in ProjectQ, we use a special backend called CircuitDrawerMatplotlib.\n",
    "from projectq.backends import CircuitDrawerMatplotlib\n",
    "\n",
    "# Now we create an instance of this backend\n",
    "qdrawer = CircuitDrawerMatplotlib()\n",
    "\n",
    "qengine = MainEngine(engine_list=[qdrawer]) # create a default compiler (the back-end is a simulator)\n",
    "qubit = qengine.allocate_qubit() # allocate 1 qubit\n",
    "H | qubit # apply a Hadamard gate\n",
    "Measure | qubit # measure the qubit\n",
    "qengine.flush() # flush all gates (and execute measurements)\n",
    "print(\"Output {}\".format(int(qubit))) # output measurement result"
   ]
  }
 ],
 "metadata": {
  "kernelspec": {
   "display_name": "Python 3",
   "language": "python",
   "name": "python3"
  },
  "language_info": {
   "codemirror_mode": {
    "name": "ipython",
    "version": 3
   },
   "file_extension": ".py",
   "mimetype": "text/x-python",
   "name": "python",
   "nbconvert_exporter": "python",
   "pygments_lexer": "ipython3",
   "version": "3.8.8"
  }
 },
 "nbformat": 4,
 "nbformat_minor": 4
}
