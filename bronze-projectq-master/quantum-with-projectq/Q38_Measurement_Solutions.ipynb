{
 "cells": [
  {
   "cell_type": "markdown",
   "metadata": {},
   "source": [
    "<a href=\"https://qworld.net\" target=\"_blank\" align=\"left\"><img src=\"./images/header.jpg\"  align=\"left\"></a>\n",
    "$ \\newcommand{\\bra}[1]{\\langle #1|} $\n",
    "$ \\newcommand{\\ket}[1]{|#1\\rangle} $\n",
    "$ \\newcommand{\\braket}[2]{\\langle #1|#2\\rangle} $\n",
    "$ \\newcommand{\\dot}[2]{ #1 \\cdot #2} $\n",
    "$ \\newcommand{\\biginner}[2]{\\left\\langle #1,#2\\right\\rangle} $\n",
    "$ \\newcommand{\\mymatrix}[2]{\\left( \\begin{array}{#1} #2\\end{array} \\right)} $\n",
    "$ \\newcommand{\\myvector}[1]{\\mymatrix{c}{#1}} $\n",
    "$ \\newcommand{\\myrvector}[1]{\\mymatrix{r}{#1}} $\n",
    "$ \\newcommand{\\mypar}[1]{\\left( #1 \\right)} $\n",
    "$ \\newcommand{\\mybigpar}[1]{ \\Big( #1 \\Big)} $\n",
    "$ \\newcommand{\\sqrttwo}{\\frac{1}{\\sqrt{2}}} $\n",
    "$ \\newcommand{\\dsqrttwo}{\\dfrac{1}{\\sqrt{2}}} $\n",
    "$ \\newcommand{\\onehalf}{\\frac{1}{2}} $\n",
    "$ \\newcommand{\\donehalf}{\\dfrac{1}{2}} $\n",
    "$ \\newcommand{\\hadamard}{ \\mymatrix{rr}{ \\sqrttwo & \\sqrttwo \\\\ \\sqrttwo & -\\sqrttwo }} $\n",
    "$ \\newcommand{\\vzero}{\\myvector{1\\\\0}} $\n",
    "$ \\newcommand{\\vone}{\\myvector{0\\\\1}} $\n",
    "$ \\newcommand{\\stateplus}{\\myvector{ \\sqrttwo \\\\  \\sqrttwo } } $\n",
    "$ \\newcommand{\\stateminus}{ \\myrvector{ \\sqrttwo \\\\ -\\sqrttwo } } $\n",
    "$ \\newcommand{\\myarray}[2]{ \\begin{array}{#1}#2\\end{array}} $\n",
    "$ \\newcommand{\\X}{ \\mymatrix{cc}{0 & 1 \\\\ 1 & 0}  } $\n",
    "$ \\newcommand{\\I}{ \\mymatrix{rr}{1 & 0 \\\\ 0 & 1}  } $\n",
    "$ \\newcommand{\\Z}{ \\mymatrix{rr}{1 & 0 \\\\ 0 & -1}  } $\n",
    "$ \\newcommand{\\Htwo}{ \\mymatrix{rrrr}{ \\frac{1}{2} & \\frac{1}{2} & \\frac{1}{2} & \\frac{1}{2} \\\\ \\frac{1}{2} & -\\frac{1}{2} & \\frac{1}{2} & -\\frac{1}{2} \\\\ \\frac{1}{2} & \\frac{1}{2} & -\\frac{1}{2} & -\\frac{1}{2} \\\\ \\frac{1}{2} & -\\frac{1}{2} & -\\frac{1}{2} & \\frac{1}{2} } } $\n",
    "$ \\newcommand{\\CNOT}{ \\mymatrix{cccc}{1 & 0 & 0 & 0 \\\\ 0 & 1 & 0 & 0 \\\\ 0 & 0 & 0 & 1 \\\\ 0 & 0 & 1 & 0} } $\n",
    "$ \\newcommand{\\norm}[1]{ \\left\\lVert #1 \\right\\rVert } $\n",
    "$ \\newcommand{\\pstate}[1]{ \\lceil \\mspace{-1mu} #1 \\mspace{-1.5mu} \\rfloor } $\n",
    "$ \\newcommand{\\greenbit}[1] {\\mathbf{{\\color{green}#1}}} $\n",
    "$ \\newcommand{\\bluebit}[1] {\\mathbf{{\\color{blue}#1}}} $\n",
    "$ \\newcommand{\\redbit}[1] {\\mathbf{{\\color{red}#1}}} $\n",
    "$ \\newcommand{\\brownbit}[1] {\\mathbf{{\\color{brown}#1}}} $\n",
    "$ \\newcommand{\\blackbit}[1] {\\mathbf{{\\color{black}#1}}} $"
   ]
  },
  {
   "cell_type": "markdown",
   "metadata": {},
   "source": [
    "<font style=\"font-size:28px;\" align=\"left\"><b> <font color=\"blue\"> Solutions for </font>Superposition and Measurement </b></font>"
   ]
  },
  {
   "cell_type": "markdown",
   "metadata": {},
   "source": [
    "_prepared by Abuzer Yakaryilmaz_\n",
    "\n",
    "_ProjectQ adaptation by Vishal Sharathchandra Bajpe and Marija Šćekić_\n",
    "<br><br>"
   ]
  },
  {
   "cell_type": "markdown",
   "metadata": {},
   "source": [
    "<a id=\"task1\"></a>\n",
    "## Task 1\n",
    "\n",
    "Repeat the second experiment with the following modifications.\n",
    "\n",
    "Start in state $ \\ket{1} $.\n",
    "\n",
    "Apply a Hadamard gate.\n",
    "\n",
    "Make a measurement. \n",
    "\n",
    "If the measurement outcome is 0, stop.\n",
    "\n",
    "Otherwise, apply a second Hadamard, and then make a measurement.\n",
    "\n",
    "Execute your circuit 1000 times.\n",
    "\n",
    "Calculate the expected values of observing '0' and '1', and then compare your result with the simulator result."
   ]
  },
  {
   "cell_type": "markdown",
   "metadata": {},
   "source": [
    "<h3> Solution </h3>\n",
    "\n",
    "We expect to see outcome '0' and '1' with frequency %75 and %25, respectively."
   ]
  },
  {
   "cell_type": "code",
   "execution_count": null,
   "metadata": {},
   "outputs": [],
   "source": [
    "# import all necessary classes and methods for quantum circuits\n",
    "from projectq import MainEngine\n",
    "from projectq.ops import H,X,Measure,All\n",
    "from projectq.backends import CircuitDrawerMatplotlib, Simulator\n",
    "from projectq.setups.default import get_engine_list\n",
    "\n",
    "outcomes={'0':0,'1':0} # we create and initiate the dictionary\n",
    "\n",
    "# define engines\n",
    "qdrawer = CircuitDrawerMatplotlib()\n",
    "qengine = MainEngine(backend = Simulator(), engine_list = [qdrawer]+get_engine_list())\n",
    "\n",
    "iteration = 1000\n",
    "\n",
    "for i in range(iteration):    \n",
    "    qubit = qengine.allocate_qureg(1) # allocate the qubit\n",
    "    X | qubit[0] # set the qubit to |1>\n",
    "    H | qubit[0] # apply the first Hadamard\n",
    "    Measure | qubit # measure the qubit\n",
    "    if int(qubit[0])==1: # if the result is '1'\n",
    "        H | qubit[0] # apply the second Hadamard\n",
    "        Measure | qubit # measure the qubit\n",
    "    \n",
    "    qengine.flush() # send the circuit to the simulator\n",
    "    key = str(int(qubit[0])) # read the outcome as a string\n",
    "    if key in outcomes: outcomes[key]+=1 # increase the frequency of key by 1\n",
    "    else: outcomes[key] = 1 # create the key with value 1\n",
    "        \n",
    "print(\"outcomes are\",outcomes)\n",
    "for b in outcomes:\n",
    "    print(\"outcome\",b,\"is observed with frequency %\",100*outcomes[b]/iteration)"
   ]
  },
  {
   "cell_type": "markdown",
   "metadata": {},
   "source": [
    "<a id=\"task2\"></a>\n",
    "## Task 2\n",
    "\n",
    "Design the following quantum circuit.\n",
    "\n",
    "Start in state $ \\ket{0} $.\n",
    "\n",
    "    Repeat 3 times:\n",
    "        make a measurement\n",
    "        if the qubit is in state |0>:\n",
    "            apply a Hadamard operator\n",
    "    make a measurement\n",
    "\n",
    "Execute your circuit 1000 times.\n",
    "\n",
    "Calculate the expected values of observing '0' and '1', and then compare your result with the simulator result."
   ]
  },
  {
   "cell_type": "markdown",
   "metadata": {},
   "source": [
    "<h3> Solution </h3>\n",
    "\n",
    "We expect to see outcome '0' and '1' with frequency %87.5 and %12.5, respectively."
   ]
  },
  {
   "cell_type": "code",
   "execution_count": null,
   "metadata": {},
   "outputs": [],
   "source": [
    "# import all necessary classes and methods for quantum circuits\n",
    "from projectq import MainEngine\n",
    "from projectq.ops import H,X,Measure,All\n",
    "from projectq.backends import CircuitDrawerMatplotlib, Simulator\n",
    "from projectq.setups.default import get_engine_list\n",
    "\n",
    "outcomes={'0':0,'1':0} # we create and initiate the dictionary\n",
    "\n",
    "# define engines\n",
    "qdrawer = CircuitDrawerMatplotlib()\n",
    "qengine = MainEngine(backend = Simulator(), engine_list = [qdrawer]+get_engine_list())\n",
    "\n",
    "iteration = 1000\n",
    "\n",
    "for i in range(iteration):    \n",
    "    qubit = qengine.allocate_qureg(1) # allocate the qubit\n",
    "    for j in range(3): # repeat three times\n",
    "        Measure | qubit # measure the qubit\n",
    "        if int(qubit[0])==0: H | qubit[0] # apply Hadamard\n",
    "    Measure | qubit # measure the qubit\n",
    "    \n",
    "    qengine.flush() # send the circuit to the simulator\n",
    "    key = str(int(qubit[0])) # read the outcome as a string\n",
    "    if key in outcomes: outcomes[key]+=1 # increase the frequency of key by 1\n",
    "    else: outcomes[key] = 1 # create the key with value 1\n",
    "        \n",
    "print(\"outcomes are\",outcomes)\n",
    "for b in outcomes:\n",
    "    print(\"outcome\",b,\"is observed with frequency %\",100*outcomes[b]/iteration)"
   ]
  },
  {
   "cell_type": "markdown",
   "metadata": {},
   "source": [
    "<a id=\"task3\"></a>\n",
    "## Task 3 (Extra)\n",
    "\n",
    "Design randomly created quantum circuit as follows.\n",
    "\n",
    "Pick four random binary values as $ r = [r0,r1,r2,r3]$.\n",
    "\n",
    "Start in state $ \\ket{0} $.\n",
    "\n",
    "    apply a Hadamard operator\n",
    "    make a measurement\n",
    "    for j in range (4): \n",
    "        if the qubit in state |rj>:\n",
    "            apply a Hadamard operator\n",
    "        make a measurement\n",
    "        \n",
    "Print the random binary values, and guess the expected frequencies of observing '0' and '1' if the circuit is executed 1000 times.\n",
    "\n",
    "Then, execute your circuit 1000 times, and compare your guess with the simulator result.\n",
    "\n",
    "Repeat the task a few more times to verify your calculations."
   ]
  },
  {
   "cell_type": "markdown",
   "metadata": {},
   "source": [
    "### Solution\n",
    "\n",
    "We can calculate the frequencies iteratively by python."
   ]
  },
  {
   "cell_type": "markdown",
   "metadata": {},
   "source": [
    "**Pick the random bits**"
   ]
  },
  {
   "cell_type": "code",
   "execution_count": null,
   "metadata": {},
   "outputs": [],
   "source": [
    "from random import randrange\n",
    "\n",
    "# we pick 4 random bits\n",
    "r = []\n",
    "for j in range(4):\n",
    "    r.append(randrange(2))\n",
    "\n",
    "print(r)"
   ]
  },
  {
   "cell_type": "markdown",
   "metadata": {},
   "source": [
    "**Calculate the frequencies by using python**"
   ]
  },
  {
   "cell_type": "code",
   "execution_count": null,
   "metadata": {},
   "outputs": [],
   "source": [
    "# here is the number of iteration \n",
    "iteration = 1000\n",
    "\n",
    "# we use two variables for the expected counting\n",
    "zero = one = 0\n",
    "\n",
    "# now we follow the protocol and update our variables\n",
    "\n",
    "# Hadamard + Measurement => '0' with prob 0.5 and '1' with prob 0.5\n",
    "zero = iteration / 2\n",
    "one = iteration / 2\n",
    "\n",
    "# repeat four times\n",
    "for i in range (4):\n",
    "    if r[i]==0: # Hadamard is applied when the qubit is in state |0>\n",
    "        # zero goes to '0' and '1' with probability 0.5\n",
    "        # that is, the value of zero will be halved and the other half will be added to one\n",
    "        zero = zero / 2\n",
    "        one = one + zero\n",
    "    if r[i]==1: # Hadamard is applied when the qubit is in state |1>\n",
    "        # this case is symmetric to the above\n",
    "        one = one / 2\n",
    "        zero = zero + one\n",
    "\n",
    "print(\"the expected number of observing 0's and 1's:\")        \n",
    "print(\"'0':\",zero,\",\",\"'1'\",one)\n",
    "print()\n",
    "\n",
    "print(\"the expected frequencies:\")\n",
    "f_zero = round(100 * (zero/iteration),1)\n",
    "f_one = round(100 * (one/iteration),1)\n",
    "print(\"% of '0':\",f_zero,\",\",\"% of '1'\",f_one)"
   ]
  },
  {
   "cell_type": "markdown",
   "metadata": {},
   "source": [
    "**Execute the circuit**"
   ]
  },
  {
   "cell_type": "code",
   "execution_count": null,
   "metadata": {},
   "outputs": [],
   "source": [
    "# import all necessary classes and methods for quantum circuits\n",
    "from projectq import MainEngine\n",
    "from projectq.ops import H,X,Measure,All\n",
    "from projectq.backends import CircuitDrawerMatplotlib, Simulator\n",
    "from projectq.setups.default import get_engine_list\n",
    "\n",
    "outcomes={'0':0,'1':0} # we create and initiate the dictionary\n",
    "\n",
    "# define engines\n",
    "qdrawer = CircuitDrawerMatplotlib()\n",
    "qengine = MainEngine(backend = Simulator(), engine_list = [qdrawer]+get_engine_list())\n",
    "\n",
    "for i in range(iteration):    \n",
    "    qubit = qengine.allocate_qureg(1) # allocate the qubit\n",
    "    H | qubit[0] # apply Hadamard\n",
    "    Measure | qubit # measure the qubit\n",
    "    for j in range(4): # repeat four times\n",
    "        if int(qubit[0])==r[j]: # if the qubit in state |rj>\n",
    "            H | qubit[0] # apply Hadamard\n",
    "        Measure | qubit # measure the qubit\n",
    "    \n",
    "    qengine.flush() # send the circuit to the simulator\n",
    "    key = str(int(qubit[0])) # read the outcome as a string\n",
    "    if key in outcomes: outcomes[key]+=1 # increase the frequency of key by 1\n",
    "    else: outcomes[key] = 1 # create the key with value 1\n",
    "        \n",
    "print(\"outcomes are\",outcomes)\n",
    "for b in outcomes:\n",
    "    print(\"outcome\",b,\"is observed with frequency %\",100*outcomes[b]/iteration)"
   ]
  }
 ],
 "metadata": {
  "kernelspec": {
   "display_name": "Python 3",
   "language": "python",
   "name": "python3"
  },
  "language_info": {
   "codemirror_mode": {
    "name": "ipython",
    "version": 3
   },
   "file_extension": ".py",
   "mimetype": "text/x-python",
   "name": "python",
   "nbconvert_exporter": "python",
   "pygments_lexer": "ipython3",
   "version": "3.7.1"
  }
 },
 "nbformat": 4,
 "nbformat_minor": 4
}
