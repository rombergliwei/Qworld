{
 "cells": [
  {
   "cell_type": "markdown",
   "metadata": {},
   "source": [
    "<a href=\"https://qworld.net\" target=\"_blank\" align=\"left\"><img src=\"./images/header.jpg\"  align=\"left\"></a>\n",
    "$ \\newcommand{\\bra}[1]{\\langle #1|} $\n",
    "$ \\newcommand{\\ket}[1]{|#1\\rangle} $\n",
    "$ \\newcommand{\\braket}[2]{\\langle #1|#2\\rangle} $\n",
    "$ \\newcommand{\\dot}[2]{ #1 \\cdot #2} $\n",
    "$ \\newcommand{\\biginner}[2]{\\left\\langle #1,#2\\right\\rangle} $\n",
    "$ \\newcommand{\\mymatrix}[2]{\\left( \\begin{array}{#1} #2\\end{array} \\right)} $\n",
    "$ \\newcommand{\\myvector}[1]{\\mymatrix{c}{#1}} $\n",
    "$ \\newcommand{\\myrvector}[1]{\\mymatrix{r}{#1}} $\n",
    "$ \\newcommand{\\mypar}[1]{\\left( #1 \\right)} $\n",
    "$ \\newcommand{\\mybigpar}[1]{ \\Big( #1 \\Big)} $\n",
    "$ \\newcommand{\\sqrttwo}{\\frac{1}{\\sqrt{2}}} $\n",
    "$ \\newcommand{\\dsqrttwo}{\\dfrac{1}{\\sqrt{2}}} $\n",
    "$ \\newcommand{\\onehalf}{\\frac{1}{2}} $\n",
    "$ \\newcommand{\\donehalf}{\\dfrac{1}{2}} $\n",
    "$ \\newcommand{\\hadamard}{ \\mymatrix{rr}{ \\sqrttwo & \\sqrttwo \\\\ \\sqrttwo & -\\sqrttwo }} $\n",
    "$ \\newcommand{\\vzero}{\\myvector{1\\\\0}} $\n",
    "$ \\newcommand{\\vone}{\\myvector{0\\\\1}} $\n",
    "$ \\newcommand{\\stateplus}{\\myvector{ \\sqrttwo \\\\  \\sqrttwo } } $\n",
    "$ \\newcommand{\\stateminus}{ \\myrvector{ \\sqrttwo \\\\ -\\sqrttwo } } $\n",
    "$ \\newcommand{\\myarray}[2]{ \\begin{array}{#1}#2\\end{array}} $\n",
    "$ \\newcommand{\\X}{ \\mymatrix{cc}{0 & 1 \\\\ 1 & 0}  } $\n",
    "$ \\newcommand{\\I}{ \\mymatrix{rr}{1 & 0 \\\\ 0 & 1}  } $\n",
    "$ \\newcommand{\\Z}{ \\mymatrix{rr}{1 & 0 \\\\ 0 & -1}  } $\n",
    "$ \\newcommand{\\Htwo}{ \\mymatrix{rrrr}{ \\frac{1}{2} & \\frac{1}{2} & \\frac{1}{2} & \\frac{1}{2} \\\\ \\frac{1}{2} & -\\frac{1}{2} & \\frac{1}{2} & -\\frac{1}{2} \\\\ \\frac{1}{2} & \\frac{1}{2} & -\\frac{1}{2} & -\\frac{1}{2} \\\\ \\frac{1}{2} & -\\frac{1}{2} & -\\frac{1}{2} & \\frac{1}{2} } } $\n",
    "$ \\newcommand{\\CNOT}{ \\mymatrix{cccc}{1 & 0 & 0 & 0 \\\\ 0 & 1 & 0 & 0 \\\\ 0 & 0 & 0 & 1 \\\\ 0 & 0 & 1 & 0} } $\n",
    "$ \\newcommand{\\norm}[1]{ \\left\\lVert #1 \\right\\rVert } $\n",
    "$ \\newcommand{\\pstate}[1]{ \\lceil \\mspace{-1mu} #1 \\mspace{-1.5mu} \\rfloor } $\n",
    "$ \\newcommand{\\greenbit}[1] {\\mathbf{{\\color{green}#1}}} $\n",
    "$ \\newcommand{\\bluebit}[1] {\\mathbf{{\\color{blue}#1}}} $\n",
    "$ \\newcommand{\\redbit}[1] {\\mathbf{{\\color{red}#1}}} $\n",
    "$ \\newcommand{\\brownbit}[1] {\\mathbf{{\\color{brown}#1}}} $\n",
    "$ \\newcommand{\\blackbit}[1] {\\mathbf{{\\color{black}#1}}} $"
   ]
  },
  {
   "cell_type": "markdown",
   "metadata": {},
   "source": [
    "# Quantum Programs with ProjectQ - Part 2"
   ]
  },
  {
   "cell_type": "markdown",
   "metadata": {},
   "source": [
    "_prepared by Abuzer Yakaryilmaz_\n",
    "\n",
    "_ProjectQ adaptation by Vishal Sharathchandra Bajpe and Marija Šćekić_\n",
    "<br><br>"
   ]
  },
  {
   "cell_type": "markdown",
   "metadata": {},
   "source": [
    "Here we start to design quantum programs with probabilistic outcomes.\n",
    "\n",
    "To collect statistics, we execute the circuits several times.\n",
    "\n",
    "For this purpose, we implement the experiments given in [Quantum Coin Flipping](../photon/Photon20_Quantum_Coin_Flipping.ipynb) by using ProjectQ.\n",
    "\n",
    "An example quantum operator for quantum coin-flipping is Hadamard. \n",
    "\n",
    "It is defined as H gate in ProjectQ."
   ]
  },
  {
   "cell_type": "markdown",
   "metadata": {},
   "source": [
    "## The first experiment\n",
    "\n",
    "Our quantum bit (<b>qubit</b>) starts in state 0, which is shown as $ \\ket{0} = \\myvector{1 \\\\ 0} $.\n",
    "\n",
    "<i>$ \\ket{\\cdot} $ is called ket-notation:  Ket-notation is used to represent a column vector in quantum mechanics. \n",
    "\n",
    "For a given column vector $ \\ket{v} $, its conjugate transpose is a row vector represented as $ \\bra{v} $ (bra-notation). \n",
    "</i>"
   ]
  },
  {
   "cell_type": "markdown",
   "metadata": {},
   "source": [
    "### The circuit with a single Hadamard \n",
    "\n",
    "We design a circuit with one qubit and apply quantum coin-flipping once.\n",
    "\n",
    "<img src=\"./images/photon1A.jpg\" width=\"30%\" align=\"left\">"
   ]
  },
  {
   "cell_type": "code",
   "execution_count": null,
   "metadata": {},
   "outputs": [],
   "source": [
    "# Import necessary objects and methods for creating circuits \n",
    "from projectq import MainEngine\n",
    "from projectq.ops import H,X,Measure,All\n",
    "from projectq.backends import CircuitDrawerMatplotlib, Simulator\n",
    "from projectq.setups.default import get_engine_list\n",
    "\n",
    "# define engines for simulation and drawings\n",
    "qdrawer = CircuitDrawerMatplotlib()\n",
    "qengine = MainEngine(backend = Simulator(), engine_list = [qdrawer]+get_engine_list())\n",
    "\n",
    "# Define number of qubits and allocate them\n",
    "qubit = qengine.allocate_qubit()\n",
    "\n",
    "# Apply H-gate (Recall: H-Gate is our quantum \"coin-flipping\" gate) to the first qubit\n",
    "H | qubit[0]\n",
    "\n",
    "# draw the circuit\n",
    "qdrawer.draw()\n",
    "\n",
    "# The simulator expects to measure the qubit(s) before exiting the program\n",
    "Measure | qubit"
   ]
  },
  {
   "cell_type": "markdown",
   "metadata": {},
   "source": [
    "### Getting probabilities\n",
    "The photon is transmited and reflected with probability 0.5.\n",
    "\n",
    "<img src=\"./images/photon1B.jpg\" width=\"40%\" align=\"left\">"
   ]
  },
  {
   "cell_type": "markdown",
   "metadata": {},
   "source": [
    "We can use the following method to read the probabilities of observing state $ \\ket{0} $ and $ \\ket{1} $.\n",
    "\n",
    "    qengine.backend.get_probability((bit_string, qureg)\n",
    "    # E.g., the probability of observing '1'\n",
    "    qengine.backend.get_probability('1',qubit)\n",
    "\n",
    "As it is a method of backend, we should flush the circuit:\n",
    "\n",
    "    qengine.flush()"
   ]
  },
  {
   "cell_type": "code",
   "execution_count": null,
   "metadata": {
    "scrolled": true
   },
   "outputs": [],
   "source": [
    "# Import necessary classes and functions for creating circuits \n",
    "from projectq import MainEngine\n",
    "from projectq.ops import H,X,Measure,All\n",
    "from projectq.backends import CircuitDrawerMatplotlib, Simulator\n",
    "from projectq.setups.default import get_engine_list\n",
    "\n",
    "# define engines for simulation and drawings\n",
    "qdrawer = CircuitDrawerMatplotlib()\n",
    "qengine = MainEngine(backend = Simulator(), engine_list = [qdrawer]+get_engine_list())\n",
    "\n",
    "qubit = qengine.allocate_qubit()\n",
    "H | qubit\n",
    "qengine.flush()\n",
    "\n",
    "prob0 = qengine.backend.get_probability('0',qubit)\n",
    "prob1 = qengine.backend.get_probability('1',qubit)\n",
    "print(\"the probability of observing '0' is\",round(prob0,3))\n",
    "print(\"the probability of observing '1' is\",round(prob1,3))\n",
    "\n",
    "# The simulator expects to measure the qubit(s) before exiting the program\n",
    "Measure | qubit"
   ]
  },
  {
   "cell_type": "markdown",
   "metadata": {},
   "source": [
    "### Measurement\n",
    "\n",
    "When we measure the qubit:\n",
    "- we can observe either 0 or 1, and then\n",
    "- the qubit is collapsed into the observed state."
   ]
  },
  {
   "cell_type": "code",
   "execution_count": null,
   "metadata": {},
   "outputs": [],
   "source": [
    "# Import necessary classes and functions for creating circuits \n",
    "from projectq import MainEngine\n",
    "from projectq.ops import H,X,Measure,All\n",
    "from projectq.backends import CircuitDrawerMatplotlib, Simulator\n",
    "from projectq.setups.default import get_engine_list\n",
    "\n",
    "for i in range(8):\n",
    "    # define engines for simulation and drawings\n",
    "    qdrawer = CircuitDrawerMatplotlib()\n",
    "    qengine = MainEngine(backend = Simulator(), engine_list = [qdrawer]+get_engine_list())\n",
    "\n",
    "    qubit = qengine.allocate_qubit()\n",
    "    H | qubit\n",
    "    qengine.flush()\n",
    "    # measure the qubit\n",
    "    Measure | qubit\n",
    "    # print the outcome\n",
    "    print(\"the outcome is\",int(qubit))\n",
    "    \n",
    "# draw the (latest) circuit \n",
    "qdrawer.draw()\n",
    "\n",
    "# The simulator expects to measure the qubit(s) before exiting the program\n",
    "Measure | qubit"
   ]
  },
  {
   "cell_type": "markdown",
   "metadata": {},
   "source": [
    "### Collecting statistics\n",
    "\n",
    "If we execute our quantum program several times, the number of outcomes '0's and '1's are expected to be close to each other.\n",
    "\n",
    "<img src=\"./images/photon2.jpg\" width=\"35%\" align=\"left\">"
   ]
  },
  {
   "cell_type": "markdown",
   "metadata": {},
   "source": [
    "We use a dictionary to store the outcomes and their frequencies. "
   ]
  },
  {
   "cell_type": "code",
   "execution_count": null,
   "metadata": {},
   "outputs": [],
   "source": [
    "# Import necessary classes and functions for creating circuits \n",
    "from projectq import MainEngine\n",
    "from projectq.ops import H,X,Measure,All\n",
    "from projectq.backends import CircuitDrawerMatplotlib, Simulator\n",
    "from projectq.setups.default import get_engine_list\n",
    "\n",
    "# Let us create a dictionary to store measurement outcomes\n",
    "outcomes = {}\n",
    "\n",
    "# the number of iteration\n",
    "iteration = 1000\n",
    "\n",
    "# looping over the circuit 'iteration' times\n",
    "for i in range(iteration):\n",
    "    # define engines for simulation and drawings\n",
    "    qdrawer = CircuitDrawerMatplotlib()\n",
    "    qengine = MainEngine(backend = Simulator(), engine_list = [qdrawer]+get_engine_list())\n",
    "    qubit = qengine.allocate_qubit()\n",
    "    H | qubit\n",
    "    qengine.flush()\n",
    "    Measure | qubit\n",
    "    key = str(int(qubit))\n",
    "    if key in outcomes: outcomes[key]+=1 # increase the frequency of key by 1\n",
    "    else: outcomes[key] = 1 # create the key with value 1\n",
    "\n",
    "print(\"outcomes are\",outcomes)\n",
    "for b in outcomes:\n",
    "    print(\"outcome\",b,\"is observed with frequency %\",100*outcomes[b]/iteration)\n",
    "\n",
    "# Plot histogram using matplotlib\n",
    "import matplotlib.pyplot as plt\n",
    "\n",
    "# Plot Dictionary keys and values in a bar plot\n",
    "plt.bar(list(outcomes.keys()), outcomes.values())\n",
    "\n",
    "# Show plot\n",
    "plt.show()\n",
    "\n",
    "# draw the (latest) circuit\n",
    "qdrawer.draw()\n",
    "# The simulator expects to measure the qubit(s) before exiting the program\n",
    "Measure | qubit"
   ]
  },
  {
   "cell_type": "markdown",
   "metadata": {},
   "source": [
    "<a id=\"exp2\"></a>\n",
    "## The second experiment\n",
    "\n",
    "We implement the following experiment in ProjectQ.\n",
    "\n",
    "<img src=\"./images/photon4.jpg\" width=\"45%\" align=\"left\">"
   ]
  },
  {
   "cell_type": "markdown",
   "metadata": {},
   "source": [
    "After the first Hadamard, we measure the qubit. \n",
    "\n",
    "If the result is '0', then we apply another Hadamard."
   ]
  },
  {
   "cell_type": "code",
   "execution_count": null,
   "metadata": {},
   "outputs": [],
   "source": [
    "# Import necessary classes and functions for creating circuits \n",
    "from projectq import MainEngine\n",
    "from projectq.ops import H,X,Measure,All\n",
    "from projectq.backends import CircuitDrawerMatplotlib, Simulator\n",
    "from projectq.setups.default import get_engine_list\n",
    "\n",
    "outcomes={'0':0,'1':0} # we create and initiate the dictionary\n",
    "\n",
    "# define engines for simulation and drawings\n",
    "qdrawer = CircuitDrawerMatplotlib()\n",
    "qengine = MainEngine(backend = Simulator(), engine_list = [qdrawer]+get_engine_list())\n",
    "\n",
    "iteration = 1000\n",
    "\n",
    "for i in range(iteration):    \n",
    "    qubit = qengine.allocate_qubit() # allocate the qubit\n",
    "    H | qubit # apply the first Hadamard\n",
    "    Measure | qubit # measure the qubit\n",
    "    if int(qubit)==0: # if the result is '0'\n",
    "        H | qubit # apply the second Hadamard\n",
    "        Measure | qubit # measure the qubit\n",
    "    \n",
    "    qengine.flush() # send the circuit to the simulator\n",
    "    key = str(int(qubit)) # read the outcome as a string\n",
    "    if key in outcomes: outcomes[key]+=1 # increase the frequency of key by 1\n",
    "    else: outcomes[key] = 1 # create the key with value 1\n",
    "        \n",
    "print(\"outcomes are\",outcomes)        "
   ]
  },
  {
   "cell_type": "markdown",
   "metadata": {},
   "source": [
    "You can compare the outcomes with the experiment results.\n",
    "\n",
    "<img src=\"./images/photon5.jpg\" width=\"45%\" align=\"left\">"
   ]
  },
  {
   "cell_type": "markdown",
   "metadata": {},
   "source": [
    "### Draw the circuits\n",
    "\n",
    "Now, we draw 10 copies of above experiment.\n",
    "\n",
    "We also give a name for each qubit this time."
   ]
  },
  {
   "cell_type": "code",
   "execution_count": null,
   "metadata": {},
   "outputs": [],
   "source": [
    "# Import necessary classes and functions for creating circuits \n",
    "from projectq import MainEngine\n",
    "from projectq.ops import H,X,Measure,All\n",
    "from projectq.backends import CircuitDrawerMatplotlib, Simulator\n",
    "from projectq.setups.default import get_engine_list\n",
    "\n",
    "# define engines for simulation and drawings\n",
    "qdrawer = CircuitDrawerMatplotlib()\n",
    "qengine = MainEngine(backend = Simulator(), engine_list = [qdrawer]+get_engine_list())\n",
    "\n",
    "# qubit names can be provided as a dictionary => i:'qubit name'\n",
    "qname ={} \n",
    "\n",
    "for i in range(10):    \n",
    "    qubit = qengine.allocate_qubit() # allocate a new qubit and add to the circuit\n",
    "    qname[i]='q'+str(i) # we name the i-th qubit as qi\n",
    "    H | qubit # apply the first Hadamard\n",
    "    Measure | qubit # measure the qubit\n",
    "    if int(qubit)==0: # if the result is '0'\n",
    "        H | qubit # apply the second Hadamard\n",
    "        Measure | qubit # measure the qubit\n",
    "    \n",
    "qdrawer.draw(qubit_labels=qname)\n",
    "# The simulator expects to measure the qubit(s) before exiting the program\n",
    "Measure | qubit"
   ]
  },
  {
   "cell_type": "markdown",
   "metadata": {},
   "source": [
    "As can be observed from the above figure:\n",
    "- The backend draws the circuit depending on the outcome of the first measurement.\n",
    "- Each qubit name replaces $ \\ket{0} $ in the diagram."
   ]
  },
  {
   "cell_type": "markdown",
   "metadata": {},
   "source": [
    "## The third experiment\n",
    "\n",
    "Now, we implement the third experiment.\n",
    "\n",
    "<img src=\"./images/photon6.jpg\" width=\"50%\" align=\"left\">"
   ]
  },
  {
   "cell_type": "markdown",
   "metadata": {},
   "source": [
    "We design a circuit with one qubit and apply quantum coin-flipping twice."
   ]
  },
  {
   "cell_type": "code",
   "execution_count": null,
   "metadata": {},
   "outputs": [],
   "source": [
    "# Import necessary objects and methods for creating circuits \n",
    "from projectq import MainEngine\n",
    "from projectq.ops import H,X,Measure,All\n",
    "from projectq.backends import CircuitDrawerMatplotlib, Simulator\n",
    "from projectq.setups.default import get_engine_list\n",
    "\n",
    "# define engines for simulation and drawings\n",
    "qdrawer = CircuitDrawerMatplotlib()\n",
    "qengine = MainEngine(backend = Simulator(), engine_list = [qdrawer]+get_engine_list())\n",
    "\n",
    "# Allocate a single quantum bit\n",
    "qubit = qengine.allocate_qubit()\n",
    "\n",
    "# Apply H-gate to qubit twice.\n",
    "H | qubit\n",
    "H | qubit\n",
    "\n",
    "# Measure qubit value and extract it out\n",
    "Measure | qubit\n",
    "\n",
    "# Print the circuit out\n",
    "qdrawer.draw()\n",
    "\n",
    "# The simulator expects to measure the qubit(s) before exiting the program\n",
    "Measure | qubit"
   ]
  },
  {
   "cell_type": "markdown",
   "metadata": {},
   "source": [
    "Now, we execute this circuit several times and check the statistics."
   ]
  },
  {
   "cell_type": "code",
   "execution_count": null,
   "metadata": {},
   "outputs": [],
   "source": [
    "outcomes={'0':0,'1':0} # we create and initiate the dictionary\n",
    "\n",
    "# define engines\n",
    "qdrawer = CircuitDrawerMatplotlib()\n",
    "qengine = MainEngine(backend = Simulator(), engine_list = [qdrawer]+get_engine_list())\n",
    "\n",
    "iteration = 1000\n",
    "\n",
    "for i in range(iteration):    \n",
    "    qubit = qengine.allocate_qubit() # allocate the qubit\n",
    "    H | qubit # apply the first Hadamard\n",
    "    H | qubit # apply the second Hadamard\n",
    "    Measure | qubit # measure the qubit\n",
    "    \n",
    "    qengine.flush() # send the circuit to the simulator\n",
    "    key = str(int(qubit)) # read the outcome as a string\n",
    "    if key in outcomes: outcomes[key]+=1 # increase the frequency of key by 1\n",
    "    else: outcomes[key] = 1 # create the key with value 1\n",
    "        \n",
    "print(\"outcomes are\",outcomes) "
   ]
  },
  {
   "cell_type": "markdown",
   "metadata": {},
   "source": [
    "The <u>only outcome</u> must be '0'.\n",
    "\n",
    "<img src=\"./images/photon7.jpg\" width=\"60%\" align=\"left\">"
   ]
  },
  {
   "cell_type": "markdown",
   "metadata": {},
   "source": [
    "<h3> Task 1 </h3>\n",
    "\n",
    "Remember that X-gate flips the value of a qubit.\n",
    "\n",
    "Design a quantum circuit with a single qubit.\n",
    "\n",
    "The qubit is initially set to $ \\ket{0} $.\n",
    "\n",
    "Set the value of qubit to $ \\ket{1} $ by using x-gate.\n",
    "\n",
    "Experiment 1: Apply one Hadamard gate, make measurement, and execute your program 10000 times.\n",
    "\n",
    "Experiment 3: Apply two Hadamard gates, make measurement, and execute your program 10000 times.\n",
    "\n",
    "Compare your results.\n",
    "\n",
    "The following two diagrams represent these experiments."
   ]
  },
  {
   "cell_type": "markdown",
   "metadata": {},
   "source": [
    "<table>\n",
    "    <tr>\n",
    "        <td><img src=\"./images/photon8.jpg\" width=\"80%\"></td>\n",
    "        <td><img src=\"./images/photon9.jpg\" width=\"70%\"></td>\n",
    "    </tr>\n",
    "</table>"
   ]
  },
  {
   "cell_type": "code",
   "execution_count": null,
   "metadata": {},
   "outputs": [],
   "source": [
    "######################\n",
    "# Enter your code here\n",
    "######################\n"
   ]
  },
  {
   "cell_type": "markdown",
   "metadata": {},
   "source": [
    "<a href=\"Q16_Quantum_Programs_with_ProjectQ_Part2_Solution.ipynb#task1\">click for our solution</a>"
   ]
  }
 ],
 "metadata": {
  "kernelspec": {
   "display_name": "Python 3",
   "language": "python",
   "name": "python3"
  },
  "language_info": {
   "codemirror_mode": {
    "name": "ipython",
    "version": 3
   },
   "file_extension": ".py",
   "mimetype": "text/x-python",
   "name": "python",
   "nbconvert_exporter": "python",
   "pygments_lexer": "ipython3",
   "version": "3.9.4"
  }
 },
 "nbformat": 4,
 "nbformat_minor": 4
}
