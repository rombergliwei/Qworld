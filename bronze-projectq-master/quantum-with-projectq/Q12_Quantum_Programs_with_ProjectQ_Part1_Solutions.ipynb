{
 "cells": [
  {
   "cell_type": "markdown",
   "metadata": {},
   "source": [
    "<a href=\"https://qworld.net\" target=\"_blank\" align=\"left\"><img src=\"./images/header.jpg\"  align=\"left\"></a>\n",
    "$ \\newcommand{\\bra}[1]{\\langle #1|} $\n",
    "$ \\newcommand{\\ket}[1]{|#1\\rangle} $\n",
    "$ \\newcommand{\\braket}[2]{\\langle #1|#2\\rangle} $\n",
    "$ \\newcommand{\\dot}[2]{ #1 \\cdot #2} $\n",
    "$ \\newcommand{\\biginner}[2]{\\left\\langle #1,#2\\right\\rangle} $\n",
    "$ \\newcommand{\\mymatrix}[2]{\\left( \\begin{array}{#1} #2\\end{array} \\right)} $\n",
    "$ \\newcommand{\\myvector}[1]{\\mymatrix{c}{#1}} $\n",
    "$ \\newcommand{\\myrvector}[1]{\\mymatrix{r}{#1}} $\n",
    "$ \\newcommand{\\mypar}[1]{\\left( #1 \\right)} $\n",
    "$ \\newcommand{\\mybigpar}[1]{ \\Big( #1 \\Big)} $\n",
    "$ \\newcommand{\\sqrttwo}{\\frac{1}{\\sqrt{2}}} $\n",
    "$ \\newcommand{\\dsqrttwo}{\\dfrac{1}{\\sqrt{2}}} $\n",
    "$ \\newcommand{\\onehalf}{\\frac{1}{2}} $\n",
    "$ \\newcommand{\\donehalf}{\\dfrac{1}{2}} $\n",
    "$ \\newcommand{\\hadamard}{ \\mymatrix{rr}{ \\sqrttwo & \\sqrttwo \\\\ \\sqrttwo & -\\sqrttwo }} $\n",
    "$ \\newcommand{\\vzero}{\\myvector{1\\\\0}} $\n",
    "$ \\newcommand{\\vone}{\\myvector{0\\\\1}} $\n",
    "$ \\newcommand{\\stateplus}{\\myvector{ \\sqrttwo \\\\  \\sqrttwo } } $\n",
    "$ \\newcommand{\\stateminus}{ \\myrvector{ \\sqrttwo \\\\ -\\sqrttwo } } $\n",
    "$ \\newcommand{\\myarray}[2]{ \\begin{array}{#1}#2\\end{array}} $\n",
    "$ \\newcommand{\\X}{ \\mymatrix{cc}{0 & 1 \\\\ 1 & 0}  } $\n",
    "$ \\newcommand{\\I}{ \\mymatrix{rr}{1 & 0 \\\\ 0 & 1}  } $\n",
    "$ \\newcommand{\\Z}{ \\mymatrix{rr}{1 & 0 \\\\ 0 & -1}  } $\n",
    "$ \\newcommand{\\Htwo}{ \\mymatrix{rrrr}{ \\frac{1}{2} & \\frac{1}{2} & \\frac{1}{2} & \\frac{1}{2} \\\\ \\frac{1}{2} & -\\frac{1}{2} & \\frac{1}{2} & -\\frac{1}{2} \\\\ \\frac{1}{2} & \\frac{1}{2} & -\\frac{1}{2} & -\\frac{1}{2} \\\\ \\frac{1}{2} & -\\frac{1}{2} & -\\frac{1}{2} & \\frac{1}{2} } } $\n",
    "$ \\newcommand{\\CNOT}{ \\mymatrix{cccc}{1 & 0 & 0 & 0 \\\\ 0 & 1 & 0 & 0 \\\\ 0 & 0 & 0 & 1 \\\\ 0 & 0 & 1 & 0} } $\n",
    "$ \\newcommand{\\norm}[1]{ \\left\\lVert #1 \\right\\rVert } $\n",
    "$ \\newcommand{\\pstate}[1]{ \\lceil \\mspace{-1mu} #1 \\mspace{-1.5mu} \\rfloor } $\n",
    "$ \\newcommand{\\greenbit}[1] {\\mathbf{{\\color{green}#1}}} $\n",
    "$ \\newcommand{\\bluebit}[1] {\\mathbf{{\\color{blue}#1}}} $\n",
    "$ \\newcommand{\\redbit}[1] {\\mathbf{{\\color{red}#1}}} $\n",
    "$ \\newcommand{\\brownbit}[1] {\\mathbf{{\\color{brown}#1}}} $\n",
    "$ \\newcommand{\\blackbit}[1] {\\mathbf{{\\color{black}#1}}} $"
   ]
  },
  {
   "cell_type": "markdown",
   "metadata": {},
   "source": [
    "# Solutions for Quantum Programs with ProjectQ - Part 1\n",
    "\n",
    "_prepared by Abuzer Yakaryilmaz_\n",
    "\n",
    "_ProjectQ adaptation by Vishal Sharathchandra Bajpe and Marija Šćekić_\n",
    "<br><br>"
   ]
  },
  {
   "cell_type": "markdown",
   "metadata": {},
   "source": [
    "<a id=\"task2\"></a>\n",
    "<h3> Task 2: Randomly picking an 8-bit binary number </h3>\n",
    "\n",
    "Design a quantum circuit with 8 quantum bits.\n",
    "\n",
    "For each quantum bit:\n",
    "- flip a coin by python, e.g., use \"randrange()\", and \n",
    "- apply X gate if the outcome is head.\n",
    "\n",
    "Measure all quantum bits.\n",
    "\n",
    "Draw your circuit and guess the outcome.\n",
    "\n",
    "Execute the circuit and compare it with your guess.\n",
    "\n",
    "Repeat this task as much as you want, and enjoy your random choices."
   ]
  },
  {
   "cell_type": "markdown",
   "metadata": {},
   "source": [
    "<h3>Solution</h3>"
   ]
  },
  {
   "cell_type": "markdown",
   "metadata": {},
   "source": [
    "**Design & Draw the circuit**"
   ]
  },
  {
   "cell_type": "code",
   "execution_count": null,
   "metadata": {},
   "outputs": [],
   "source": [
    "# A quantum circuit with eight quantum bits\n",
    "\n",
    "# Import all objects and methods at once\n",
    "from projectq import MainEngine \n",
    "from projectq.backends import CircuitDrawerMatplotlib, Simulator\n",
    "from projectq.ops import X, Measure, Barrier, All\n",
    "from projectq.setups.default import get_engine_list\n",
    "from random import randrange\n",
    "\n",
    "# Initialize Simulator() and CircuitDrawerMatplotlib()\n",
    "qdrawer = CircuitDrawerMatplotlib()\n",
    "qengine = MainEngine(backend = Simulator(), engine_list=[qdrawer]+get_engine_list())\n",
    "\n",
    "# Allocate qubits\n",
    "qubits = qengine.allocate_qureg(8)\n",
    "\n",
    "for i in range(8):\n",
    "    if randrange(2) == 0: # Assume that 0 is Head and 1 is Tail\n",
    "        X | qubits[i] # apply x-gate\n",
    "        print(\"X-gate is applied to the qubit with index\",i)\n",
    "\n",
    "# Apply Barrier\n",
    "Barrier | qubits \n",
    "\n",
    "# Measure circuit\n",
    "All(Measure) | qubits\n",
    "\n",
    "# Draw circuit\n",
    "qdrawer.draw()\n",
    "\n",
    "# Flush circuit to the default backend\n",
    "qengine.flush()"
   ]
  },
  {
   "cell_type": "markdown",
   "metadata": {},
   "source": [
    "**Execute the circuit**"
   ]
  },
  {
   "cell_type": "code",
   "execution_count": null,
   "metadata": {},
   "outputs": [],
   "source": [
    "# print the outcomes as a binary string by reading from qubits[0] to qubits[7]\n",
    "outcome = \"\"\n",
    "for q in qubits:\n",
    "        outcome += str( int(q) )\n",
    "\n",
    "print(\"the outcome is\",outcome)"
   ]
  },
  {
   "cell_type": "markdown",
   "metadata": {},
   "source": [
    "<a id=\"task3\"></a>\n",
    "<h3> Task 3 </h3>\n",
    "\n",
    "We repeat Task 2 and output the result as a single integer.\n",
    "\n",
    "_The method $ int(x,2) $ gives the decimal value of binary string $ x $._"
   ]
  },
  {
   "cell_type": "markdown",
   "metadata": {},
   "source": [
    "<h3>Solution</h3>\n",
    "\n",
    "We follow the convention that $ q_0 $ is the least significant bit and $ q_7 $ is the most significant bit."
   ]
  },
  {
   "cell_type": "code",
   "execution_count": null,
   "metadata": {},
   "outputs": [],
   "source": [
    "# A quantum circuit with eight quantum bits\n",
    "\n",
    "# Import all objects and methods at once\n",
    "from projectq import MainEngine \n",
    "from projectq.backends import CircuitDrawerMatplotlib, Simulator\n",
    "from projectq.ops import X, Measure, Barrier, All\n",
    "from projectq.setups.default import get_engine_list\n",
    "from random import randrange\n",
    "\n",
    "# Initialize Simulator() and CircuitDrawerMatplotlib()\n",
    "qdrawer = CircuitDrawerMatplotlib()\n",
    "qengine = MainEngine(backend = Simulator(), engine_list=[qdrawer]+get_engine_list())\n",
    "\n",
    "# Allocate qubits\n",
    "qubits = qengine.allocate_qureg(8)\n",
    "\n",
    "for i in range(8):\n",
    "    if randrange(2) == 0: # Assume that 0 is Head and 1 is Tail\n",
    "        X | qubits[i] # apply x-gate\n",
    "        print(\"X-gate is applied to the qubit with index\",i)\n",
    "\n",
    "# Apply Barrier\n",
    "Barrier | qubits \n",
    "\n",
    "# Measure circuit\n",
    "All(Measure) | qubits\n",
    "\n",
    "# Draw circuit\n",
    "qdrawer.draw()\n",
    "\n",
    "# Flush circuit to the default backend\n",
    "qengine.flush()"
   ]
  },
  {
   "cell_type": "markdown",
   "metadata": {},
   "source": [
    "**Execute the circuit**"
   ]
  },
  {
   "cell_type": "code",
   "execution_count": null,
   "metadata": {},
   "outputs": [],
   "source": [
    "# print the outcomes as a binary string by reading from qubits[7] to qubits[0]\n",
    "outcome = \"\"\n",
    "for q in qubits:\n",
    "    outcome = str( int(q) ) + outcome\n",
    "\n",
    "print(\"the binary outcome is\",outcome)\n",
    "print(\"the decimal outcome is\",int(outcome,2))"
   ]
  }
 ],
 "metadata": {
  "kernelspec": {
   "display_name": "Python 3",
   "language": "python",
   "name": "python3"
  },
  "language_info": {
   "codemirror_mode": {
    "name": "ipython",
    "version": 3
   },
   "file_extension": ".py",
   "mimetype": "text/x-python",
   "name": "python",
   "nbconvert_exporter": "python",
   "pygments_lexer": "ipython3",
   "version": "3.8.10"
  }
 },
 "nbformat": 4,
 "nbformat_minor": 4
}
