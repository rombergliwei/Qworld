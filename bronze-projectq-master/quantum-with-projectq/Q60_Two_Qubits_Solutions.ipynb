{
 "cells": [
  {
   "cell_type": "markdown",
   "metadata": {},
   "source": [
    "<a href=\"https://qworld.net\" target=\"_blank\" align=\"left\"><img src=\"../qworld/images/header.jpg\"  align=\"left\"></a>\n",
    "$ \\newcommand{\\bra}[1]{\\langle #1|} $\n",
    "$ \\newcommand{\\ket}[1]{|#1\\rangle} $\n",
    "$ \\newcommand{\\braket}[2]{\\langle #1|#2\\rangle} $\n",
    "$ \\newcommand{\\dot}[2]{ #1 \\cdot #2} $\n",
    "$ \\newcommand{\\biginner}[2]{\\left\\langle #1,#2\\right\\rangle} $\n",
    "$ \\newcommand{\\mymatrix}[2]{\\left( \\begin{array}{#1} #2\\end{array} \\right)} $\n",
    "$ \\newcommand{\\myvector}[1]{\\mymatrix{c}{#1}} $\n",
    "$ \\newcommand{\\myrvector}[1]{\\mymatrix{r}{#1}} $\n",
    "$ \\newcommand{\\mypar}[1]{\\left( #1 \\right)} $\n",
    "$ \\newcommand{\\mybigpar}[1]{ \\Big( #1 \\Big)} $\n",
    "$ \\newcommand{\\sqrttwo}{\\frac{1}{\\sqrt{2}}} $\n",
    "$ \\newcommand{\\dsqrttwo}{\\dfrac{1}{\\sqrt{2}}} $\n",
    "$ \\newcommand{\\onehalf}{\\frac{1}{2}} $\n",
    "$ \\newcommand{\\donehalf}{\\dfrac{1}{2}} $\n",
    "$ \\newcommand{\\hadamard}{ \\mymatrix{rr}{ \\sqrttwo & \\sqrttwo \\\\ \\sqrttwo & -\\sqrttwo }} $\n",
    "$ \\newcommand{\\vzero}{\\myvector{1\\\\0}} $\n",
    "$ \\newcommand{\\vone}{\\myvector{0\\\\1}} $\n",
    "$ \\newcommand{\\stateplus}{\\myvector{ \\sqrttwo \\\\  \\sqrttwo } } $\n",
    "$ \\newcommand{\\stateminus}{ \\myrvector{ \\sqrttwo \\\\ -\\sqrttwo } } $\n",
    "$ \\newcommand{\\myarray}[2]{ \\begin{array}{#1}#2\\end{array}} $\n",
    "$ \\newcommand{\\X}{ \\mymatrix{cc}{0 & 1 \\\\ 1 & 0}  } $\n",
    "$ \\newcommand{\\I}{ \\mymatrix{rr}{1 & 0 \\\\ 0 & 1}  } $\n",
    "$ \\newcommand{\\Z}{ \\mymatrix{rr}{1 & 0 \\\\ 0 & -1}  } $\n",
    "$ \\newcommand{\\Htwo}{ \\mymatrix{rrrr}{ \\frac{1}{2} & \\frac{1}{2} & \\frac{1}{2} & \\frac{1}{2} \\\\ \\frac{1}{2} & -\\frac{1}{2} & \\frac{1}{2} & -\\frac{1}{2} \\\\ \\frac{1}{2} & \\frac{1}{2} & -\\frac{1}{2} & -\\frac{1}{2} \\\\ \\frac{1}{2} & -\\frac{1}{2} & -\\frac{1}{2} & \\frac{1}{2} } } $\n",
    "$ \\newcommand{\\CNOT}{ \\mymatrix{cccc}{1 & 0 & 0 & 0 \\\\ 0 & 1 & 0 & 0 \\\\ 0 & 0 & 0 & 1 \\\\ 0 & 0 & 1 & 0} } $\n",
    "$ \\newcommand{\\norm}[1]{ \\left\\lVert #1 \\right\\rVert } $\n",
    "$ \\newcommand{\\pstate}[1]{ \\lceil \\mspace{-1mu} #1 \\mspace{-1.5mu} \\rfloor } $\n",
    "$ \\newcommand{\\greenbit}[1] {\\mathbf{{\\color{green}#1}}} $\n",
    "$ \\newcommand{\\bluebit}[1] {\\mathbf{{\\color{blue}#1}}} $\n",
    "$ \\newcommand{\\redbit}[1] {\\mathbf{{\\color{red}#1}}} $\n",
    "$ \\newcommand{\\brownbit}[1] {\\mathbf{{\\color{brown}#1}}} $\n",
    "$ \\newcommand{\\blackbit}[1] {\\mathbf{{\\color{black}#1}}} $"
   ]
  },
  {
   "cell_type": "markdown",
   "metadata": {},
   "source": [
    "<font style=\"font-size:28px;\" align=\"left\"><b> <font color=\"blue\"> Solutions for </font>Two Qubits </b></font>"
   ]
  },
  {
   "cell_type": "markdown",
   "metadata": {},
   "source": [
    "_prepared by Abuzer Yakaryilmaz_\n",
    "\n",
    "_ProjectQ adaptation by Vishal Sharathchandra Bajpe and Marija Šćekić_\n",
    "<br><br>"
   ]
  },
  {
   "cell_type": "markdown",
   "metadata": {},
   "source": [
    "<a id=\"task3\"></a>\n",
    "## Task 3\n",
    "\n",
    "We define a quantum circuit with two qubits indexed with 0 and 1.\n",
    "\n",
    "They are tensored as $ qubits[1] \\otimes qubits[0] $ in ProjectQ.\n",
    "\n",
    "We apply the Hadamard operator to $qubits[1]$."
   ]
  },
  {
   "cell_type": "code",
   "execution_count": null,
   "metadata": {},
   "outputs": [],
   "source": [
    "# Import all required classes and functions\n",
    "from projectq import MainEngine\n",
    "from projectq.ops import H,X,Measure,All\n",
    "from projectq.backends import CircuitDrawerMatplotlib, UnitarySimulator\n",
    "from projectq.setups.default import get_engine_list\n",
    "\n",
    "# Initialize engine objects for simulation and drawings\n",
    "qdrawer = CircuitDrawerMatplotlib()\n",
    "qengine = MainEngine(backend = UnitarySimulator(), engine_list = [qdrawer]+get_engine_list())\n",
    "\n",
    "# Define number of qubits and allocate them\n",
    "qubits = qengine.allocate_qureg(2)\n",
    "\n",
    "#Aplly Hadamard to the two qubits\n",
    "H | qubits[1]\n",
    "\n",
    "qdrawer.draw(qubit_labels={0:'q0',1:'q1'},drawing_order={0:0,1:1})"
   ]
  },
  {
   "cell_type": "markdown",
   "metadata": {},
   "source": [
    "Then, the quantum operator applied to both qubits will be $ H \\otimes I $.\n",
    "\n",
    "Read the quantum operator of the above circuit by using 'unitary_simulator' and then verify that it is $ H \\otimes I $."
   ]
  },
  {
   "cell_type": "markdown",
   "metadata": {},
   "source": [
    "<h3> Solution </h3>"
   ]
  },
  {
   "cell_type": "markdown",
   "metadata": {},
   "source": [
    "$ H \\otimes I = \\hadamard \\otimes \\I =  \\mymatrix{c|c}{ \\sqrttwo \\I & \\sqrttwo \\I \\\\ \\hline \\sqrttwo \\I & -\\sqrttwo \\I } = \\mymatrix{rr|rr} { \\sqrttwo & 0 & \\sqrttwo & 0 \\\\ 0 & \\sqrttwo & 0 & \\sqrttwo \\\\ \\hline \\sqrttwo & 0 & -\\sqrttwo & 0 \\\\ 0 & \\sqrttwo & 0 & -\\sqrttwo } $"
   ]
  },
  {
   "cell_type": "code",
   "execution_count": null,
   "metadata": {},
   "outputs": [],
   "source": [
    "qengine.flush()\n",
    "\n",
    "current_unitary = qengine.backend.unitary\n",
    "\n",
    "for row_val in current_unitary:\n",
    "    column_val = \" \"\n",
    "    for entry in row_val:\n",
    "        column_val = column_val + str(round(entry.real,3)) + \" \"\n",
    "    print(column_val)"
   ]
  },
  {
   "cell_type": "markdown",
   "metadata": {},
   "source": [
    "<a id=\"task5\"></a>\n",
    "## Task 5\n",
    "\n",
    "Create a quantum circuit with $ n=5 $ qubits.\n",
    "\n",
    "Set each qubit to $ \\ket{1} $.\n",
    "\n",
    "Repeat 4 times:\n",
    "- Randomly pick a pair of qubits, and apply C(NOT) operator on the pair.\n",
    "\n",
    "Draw your circuit, and execute your program once (the outcome is deterministic).\n",
    "\n",
    "Verify your measurement result by checking the diagram of the circuit.  "
   ]
  },
  {
   "cell_type": "markdown",
   "metadata": {},
   "source": [
    "<h3> Solution </h3>"
   ]
  },
  {
   "cell_type": "code",
   "execution_count": null,
   "metadata": {},
   "outputs": [],
   "source": [
    "# Import all required classes and functions\n",
    "from projectq import MainEngine\n",
    "from projectq.ops import H,X,Measure,All, Barrier, C, NOT\n",
    "from projectq.backends import CircuitDrawerMatplotlib, Simulator\n",
    "from projectq.setups.default import get_engine_list\n",
    "from random import randrange\n",
    "\n",
    "# Initialize engine objects for simulation and drawings\n",
    "qdrawer = CircuitDrawerMatplotlib()\n",
    "qengine = MainEngine(backend = Simulator(), engine_list = [qdrawer]+get_engine_list())\n",
    "\n",
    "# Define nuber of qubits\n",
    "n = 5\n",
    "\n",
    "# Define number of qubits and allocate them\n",
    "qubits = qengine.allocate_qureg(n)\n",
    "\n",
    "# Define qubit names\n",
    "qname={}\n",
    "for i in range(n): qname[i] = \"q\"+str(i)\n",
    "\n",
    "# we trace the state of each qubit also by ourselves\n",
    "states_of_qubits = [1,1,1,1,1] # each is in state |1>\n",
    "\n",
    "# apply X gates to all qubits\n",
    "All (X) | qubits\n",
    "\n",
    "for i in range(4):\n",
    "    controller_qubit = randrange(n)\n",
    "    target_qubit = randrange(n)\n",
    "    \n",
    "    # Controller and target qubits should be different\n",
    "    while controller_qubit == target_qubit: # If they are the same, we pick the target_qubit again\n",
    "        target_qubit = randrange(n)\n",
    "        \n",
    "    # Print our picked qubits\n",
    "    print(\"the indices of the controller and target qubits are\",controller_qubit,target_qubit)\n",
    "    \n",
    "    # Apply C(NOT) operator\n",
    "    C(NOT) | (qubits[controller_qubit],qubits[target_qubit])\n",
    "              \n",
    "    # We also trace the results\n",
    "    if (states_of_qubits[controller_qubit] == 1): # If the value of the controller qubit is 1\n",
    "        # Remark that 1-x gives the negation of x\n",
    "        states_of_qubits[target_qubit] = 1 - states_of_qubits[target_qubit] # Then flips the value of the target qubit \n",
    "\n",
    "# Flush Engine\n",
    "qengine.flush()\n",
    "    \n",
    "# Measure qubit\n",
    "Barrier | qubits\n",
    "All(Measure) | qubits\n",
    "\n",
    "# Draw Circuit\n",
    "qdrawer.draw(qubit_labels=qname)\n",
    "\n",
    "output = \"\"\n",
    "for q in qubits: output += str(int(q))\n",
    "print(\"the circuit output is\",output)\n",
    "\n",
    "# Our Traced result\n",
    "our_result=\"\"\n",
    "for state in states_of_qubits: our_result = our_result + str(state) \n",
    "print(\"our traced result is\",our_result)"
   ]
  },
  {
   "cell_type": "markdown",
   "metadata": {},
   "source": [
    "<a id=\"task6\"></a>\n",
    "## Task 6\n",
    "\n",
    "Our task is to learn the behavior of the following quantum circuit by doing experiments.\n",
    "\n",
    "Our circuit has two qubits: $ q_0 $ and $ q_1 $, combined (tensored) as $ q_1 \\otimes q_0 $ in ProjectQ.\n",
    "- Apply Hadamard to the both qubits\n",
    "- Apply C(NOT) | ($q_1$,$q_0$)\n",
    "- Apply Hadamard to the both qubits\n",
    "- Measure the circuit\n",
    "\n",
    "Iteratively initialize  the qubits to $ \\ket{00} $, $ \\ket{01} $, $ \\ket{10} $, and $ \\ket{11} $.\n",
    "\n",
    "Execute your program once and then check the outcome for each iteration. \n",
    "\n",
    "Observe that the overall circuit implements CNOT($q_0$,$q_1$)."
   ]
  },
  {
   "cell_type": "markdown",
   "metadata": {},
   "source": [
    "<h3> Solution </h3>"
   ]
  },
  {
   "cell_type": "code",
   "execution_count": null,
   "metadata": {},
   "outputs": [],
   "source": [
    "# Import all required classes and functions\n",
    "from projectq import MainEngine\n",
    "from projectq.ops import H,X,Measure,All, Barrier, C, NOT\n",
    "from projectq.backends import CircuitDrawerMatplotlib, Simulator\n",
    "from projectq.setups.default import get_engine_list\n",
    "from random import randrange\n",
    "\n",
    "all_inputs=['00','01','10','11']\n",
    "\n",
    "for input in all_inputs:\n",
    "    # Initialize engine objects for simulation and drawings\n",
    "    qdrawer = CircuitDrawerMatplotlib()\n",
    "    qengine = MainEngine(backend = Simulator(), engine_list = [qdrawer]+get_engine_list())\n",
    "    \n",
    "     # Define number of qubits and allocate them\n",
    "    qubits = qengine.allocate_qureg(2)\n",
    "    \n",
    "    # Prepare the input, apply X if the input has '1'\n",
    "    if input[0] =='1': # qubit[1] is the first qubit\n",
    "        X | qubits[1]\n",
    "    if input[1] =='1': # qubit[0] is the second qubit\n",
    "        X | qubits[0]\n",
    "    \n",
    "    # Apply Hadamard to both qubits\n",
    "    All(H) | qubits\n",
    "    \n",
    "    # Apply CNOT(up_qubit, down_qubit)\n",
    "    C(NOT) | (qubits[1],qubits[0])\n",
    "    \n",
    "    # Apply Hadamard to both qubits\n",
    "    All(H) | qubits\n",
    "    \n",
    "    # Flush Engine\n",
    "    qengine.flush()\n",
    "    \n",
    "    # Measure qubit\n",
    "    Barrier | qubits\n",
    "    All(Measure) | qubits\n",
    "\n",
    "    # Draw Circuit\n",
    "    qdrawer.draw(qubit_labels={0:'q0',1:'q1'},drawing_order={0:0,1:1})\n",
    "    \n",
    "    output = str(int(qubits[1])) + str(int(qubits[0]))\n",
    "    print(\"input is\",input, \"and output is\",output)"
   ]
  },
  {
   "cell_type": "markdown",
   "metadata": {},
   "source": [
    "<a id=\"task7\"></a>\n",
    "## Task 7\n",
    "\n",
    "Our task is to learn the behavior of the following quantum circuit by doing experiments.\n",
    "\n",
    "Our circuit has two qubits: $ q_0 $ and $ q_1 $, combined (tensored) as $ q_1 \\otimes q_0 $ in ProjectQ.\n",
    "- Apply CNOT($q_1$,$q_0$)\n",
    "- Apply CNOT($q_0$,$q_1$)\n",
    "- Apply CNOT($q_1$,$q_0$)\n",
    "\n",
    "Iteratively initialize  the qubits to $ \\ket{00} $, $ \\ket{01} $, $ \\ket{10} $, and $ \\ket{11} $.\n",
    "\n",
    "Execute your program once and then check the outcome for each iteration. \n",
    "\n",
    "Observe that the overall circuit swaps the values of the first and second qubits:\n",
    "- $\\ket{00} \\rightarrow \\ket{00} $\n",
    "- $\\ket{01} \\rightarrow \\ket{10} $\n",
    "- $\\ket{10} \\rightarrow \\ket{01} $\n",
    "- $\\ket{11} \\rightarrow \\ket{11} $"
   ]
  },
  {
   "cell_type": "markdown",
   "metadata": {},
   "source": [
    "<h3> Solution </h3>"
   ]
  },
  {
   "cell_type": "code",
   "execution_count": null,
   "metadata": {},
   "outputs": [],
   "source": [
    "# Import all required classes and functions\n",
    "from projectq import MainEngine\n",
    "from projectq.ops import H,X,Measure,All, Barrier, C, NOT\n",
    "from projectq.backends import CircuitDrawerMatplotlib, Simulator\n",
    "from projectq.setups.default import get_engine_list\n",
    "from random import randrange\n",
    "\n",
    "all_inputs=['00','01','10','11']\n",
    "\n",
    "for input in all_inputs:\n",
    "    # Initialize engine objects for simulation and drawings\n",
    "    qdrawer = CircuitDrawerMatplotlib()\n",
    "    qengine = MainEngine(backend = Simulator(), engine_list = [qdrawer]+get_engine_list())\n",
    "    \n",
    "     # Define number of qubits and allocate them\n",
    "    qubits = qengine.allocate_qureg(2)\n",
    "    \n",
    "    # Prepare the input, apply X if the input has '1'\n",
    "    if input[0] =='1': # qubit[1] is the first qubit\n",
    "        X | qubits[1]\n",
    "    if input[1] =='1': # qubit[0] is the second qubit\n",
    "        X | qubits[0]\n",
    "        \n",
    "    # Apply CNOT(q1,q0)\n",
    "    C(NOT) | (qubits[1],qubits[0])\n",
    "    # Apply CNOT(q0,q1)\n",
    "    C(NOT) | (qubits[0],qubits[1])\n",
    "    # Apply CNOT(q1,q0)\n",
    "    C(NOT) | (qubits[1],qubits[0])\n",
    "    \n",
    "    # Flush Engine\n",
    "    qengine.flush()\n",
    "    \n",
    "    # Measure qubit\n",
    "    Barrier | qubits\n",
    "    All(Measure) | qubits\n",
    "\n",
    "    # Draw Circuit\n",
    "    qdrawer.draw(qubit_labels={0:'q0',1:'q1'},drawing_order={0:0,1:1})\n",
    "    \n",
    "    output = str(int(qubits[1])) + str(int(qubits[0]))\n",
    "    print(\"input is\",input, \"and output is\",output)"
   ]
  }
 ],
 "metadata": {
  "kernelspec": {
   "display_name": "Python 3",
   "language": "python",
   "name": "python3"
  },
  "language_info": {
   "codemirror_mode": {
    "name": "ipython",
    "version": 3
   },
   "file_extension": ".py",
   "mimetype": "text/x-python",
   "name": "python",
   "nbconvert_exporter": "python",
   "pygments_lexer": "ipython3",
   "version": "3.7.1"
  }
 },
 "nbformat": 4,
 "nbformat_minor": 4
}
