{
 "cells": [
  {
   "cell_type": "code",
   "execution_count": 1,
   "id": "01cbcf83",
   "metadata": {},
   "outputs": [
    {
     "name": "stdout",
     "output_type": "stream",
     "text": [
      "0\n"
     ]
    }
   ],
   "source": [
    "from random import randrange \n",
    "heads = tails = 0\n",
    "for i in range(1000):\n",
    "    if randrange(1,10)==10: heads = heads + 1\n",
    "    else: tails = tails + 1\n",
    "print(heads)"
   ]
  },
  {
   "cell_type": "code",
   "execution_count": 2,
   "id": "aff108ae",
   "metadata": {},
   "outputs": [
    {
     "name": "stdout",
     "output_type": "stream",
     "text": [
      "82\n"
     ]
    }
   ],
   "source": [
    "from random import randrange \n",
    "heads = tails = 0\n",
    "for i in range(100):\n",
    "    if randrange(5)==randrange(5): heads = heads + 1\n",
    "    else: tails = tails + 1\n",
    "print(tails)"
   ]
  },
  {
   "cell_type": "code",
   "execution_count": 1,
   "id": "80de5e53",
   "metadata": {},
   "outputs": [
    {
     "name": "stdout",
     "output_type": "stream",
     "text": [
      "79\n"
     ]
    }
   ],
   "source": [
    "from random import randrange \n",
    "heads = tails = 0\n",
    "for i in range(100):\n",
    "    if randrange(5)==randrange(5): heads = heads + 1\n",
    "    else: tails = tails + 1\n",
    "print(tails)"
   ]
  },
  {
   "cell_type": "code",
   "execution_count": 1,
   "id": "a2e724e0",
   "metadata": {},
   "outputs": [
    {
     "name": "stdout",
     "output_type": "stream",
     "text": [
      "86\n"
     ]
    }
   ],
   "source": [
    "from random import randrange \n",
    "heads = tails = 0\n",
    "for i in range(100):\n",
    "    if randrange(5)==randrange(5): heads = heads + 1\n",
    "    else: tails = tails + 1\n",
    "print(tails)"
   ]
  },
  {
   "cell_type": "code",
   "execution_count": 1,
   "id": "d4eea8cc",
   "metadata": {},
   "outputs": [
    {
     "name": "stdout",
     "output_type": "stream",
     "text": [
      "82\n"
     ]
    }
   ],
   "source": [
    "from random import randrange \n",
    "heads = tails = 0\n",
    "for i in range(100):\n",
    "    if randrange(5)==randrange(5): heads = heads + 1\n",
    "    else: tails = tails + 1\n",
    "print(tails)"
   ]
  },
  {
   "cell_type": "code",
   "execution_count": 1,
   "id": "966c5e8c",
   "metadata": {},
   "outputs": [
    {
     "name": "stdout",
     "output_type": "stream",
     "text": [
      "87\n"
     ]
    }
   ],
   "source": [
    "from random import randrange \n",
    "heads = tails = 0\n",
    "for i in range(100):\n",
    "    if randrange(5)==randrange(5): heads = heads + 1\n",
    "    else: tails = tails + 1\n",
    "print(tails)"
   ]
  },
  {
   "cell_type": "code",
   "execution_count": null,
   "id": "c4bd1d3c",
   "metadata": {},
   "outputs": [],
   "source": []
  }
 ],
 "metadata": {
  "kernelspec": {
   "display_name": "Python 3",
   "language": "python",
   "name": "python3"
  },
  "language_info": {
   "codemirror_mode": {
    "name": "ipython",
    "version": 3
   },
   "file_extension": ".py",
   "mimetype": "text/x-python",
   "name": "python",
   "nbconvert_exporter": "python",
   "pygments_lexer": "ipython3",
   "version": "3.8.8"
  }
 },
 "nbformat": 4,
 "nbformat_minor": 5
}
